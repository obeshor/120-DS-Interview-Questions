{
  "cells": [
    {
      "cell_type": "markdown",
      "metadata": {
        "id": "view-in-github",
        "colab_type": "text"
      },
      "source": [
        "<a href=\"https://colab.research.google.com/github/obeshor/120-DS-Interview-Questions/blob/master/Sparkify.ipynb\" target=\"_parent\"><img src=\"https://colab.research.google.com/assets/colab-badge.svg\" alt=\"Open In Colab\"/></a>"
      ]
    },
    {
      "cell_type": "markdown",
      "source": [
        "# Problem Definition\n",
        "### Sparkify Churn Prediction"
      ],
      "metadata": {
        "collapsed": false,
        "id": "C4EWvuEjaUUq"
      }
    },
    {
      "cell_type": "markdown",
      "source": [
        "We want to create a churn prediction classifier.\n",
        "\n",
        "We will use data from a fictive company called Sparkify, a music streaming company. The dataset contains all kinds of events created by the users who interacted with\n",
        "the platform. Such as when they logged in, when they are listening to music, and when they are unsubscribing from the platform.\n",
        "\n",
        "The goal of this notebook is to leverage this data to create a model that can forecast customer churn. Therefore, we can understand better why the users are leaving the platform\n",
        "and we can adapt and improve their overall experience."
      ],
      "metadata": {
        "collapsed": false,
        "id": "EScP8zJ0aUUs"
      }
    },
    {
      "cell_type": "markdown",
      "metadata": {
        "id": "Dd6t0uFzuR4X"
      },
      "source": [
        "<a id='installing-spark'></a>\n",
        "### Installing Spark"
      ]
    },
    {
      "cell_type": "markdown",
      "metadata": {
        "id": "6apGVff5h4ca"
      },
      "source": [
        "Install Dependencies:\n",
        "\n",
        "\n",
        "1.   Java 8\n",
        "2.   Apache Spark with hadoop and\n",
        "3.   Findspark (used to locate the spark in the system)\n"
      ]
    },
    {
      "cell_type": "code",
      "metadata": {
        "id": "tt7ZS1_wGgjn"
      },
      "source": [
        "!apt-get install openjdk-8-jdk-headless -qq > /dev/null\n",
        "!wget -q http://archive.apache.org/dist/spark/spark-3.3.0/spark-3.3.0-bin-hadoop3.tgz\n",
        "!tar xf spark-3.3.0-bin-hadoop3.tgz\n",
        "!pip install -q findspark"
      ],
      "execution_count": 1,
      "outputs": []
    },
    {
      "cell_type": "markdown",
      "metadata": {
        "id": "C3x0ZRLxjMVr"
      },
      "source": [
        "Set Environment Variables:"
      ]
    },
    {
      "cell_type": "code",
      "metadata": {
        "id": "sdOOq4twHN1K"
      },
      "source": [
        "import os\n",
        "os.environ[\"JAVA_HOME\"] = \"/usr/lib/jvm/java-8-openjdk-amd64\"\n",
        "os.environ[\"SPARK_HOME\"] = \"/content/spark-3.3.0-bin-hadoop3\""
      ],
      "execution_count": 2,
      "outputs": []
    },
    {
      "cell_type": "code",
      "metadata": {
        "id": "3ACYMwhgHTYz",
        "colab": {
          "base_uri": "https://localhost:8080/"
        },
        "outputId": "8fe91ae3-f8e9-44f0-8b9b-c4731f82d846"
      },
      "source": [
        "!ls"
      ],
      "execution_count": 3,
      "outputs": [
        {
          "output_type": "stream",
          "name": "stdout",
          "text": [
            "images\t\t\t       spark-3.1.1-bin-hadoop3.2\tspark-3.3.0-bin-hadoop3\n",
            "mini_sparkify_event_data.json  spark-3.1.1-bin-hadoop3.2.tgz\tspark-3.3.0-bin-hadoop3.tgz\n",
            "sample_data\t\t       spark-3.1.1-bin-hadoop3.2.tgz.1\n"
          ]
        }
      ]
    },
    {
      "cell_type": "code",
      "metadata": {
        "id": "KR1zLBk1998Z",
        "colab": {
          "base_uri": "https://localhost:8080/",
          "height": 221
        },
        "outputId": "339a9e21-65d0-4d0f-8c9f-3eb1c66bf88d"
      },
      "source": [
        "import findspark\n",
        "findspark.init()\n",
        "from pyspark.sql import SparkSession\n",
        "spark = SparkSession.builder.master(\"local[*]\").getOrCreate()\n",
        "spark.conf.set(\"spark.sql.repl.eagerEval.enabled\", True) # Property used to format output tables better\n",
        "spark"
      ],
      "execution_count": 4,
      "outputs": [
        {
          "output_type": "execute_result",
          "data": {
            "text/plain": [
              "<pyspark.sql.session.SparkSession at 0x7b71682fa320>"
            ],
            "text/html": [
              "\n",
              "            <div>\n",
              "                <p><b>SparkSession - in-memory</b></p>\n",
              "                \n",
              "        <div>\n",
              "            <p><b>SparkContext</b></p>\n",
              "\n",
              "            <p><a href=\"http://77a55690ef38:4040\">Spark UI</a></p>\n",
              "\n",
              "            <dl>\n",
              "              <dt>Version</dt>\n",
              "                <dd><code>v3.3.0</code></dd>\n",
              "              <dt>Master</dt>\n",
              "                <dd><code>local[*]</code></dd>\n",
              "              <dt>AppName</dt>\n",
              "                <dd><code>pyspark-shell</code></dd>\n",
              "            </dl>\n",
              "        </div>\n",
              "        \n",
              "            </div>\n",
              "        "
            ]
          },
          "metadata": {},
          "execution_count": 4
        }
      ]
    },
    {
      "cell_type": "markdown",
      "source": [
        "# Import Libraries"
      ],
      "metadata": {
        "collapsed": false,
        "id": "YhP9f-Z0aUUs"
      }
    },
    {
      "cell_type": "code",
      "execution_count": 5,
      "metadata": {
        "id": "3SDDoIhnaUUs"
      },
      "outputs": [],
      "source": [
        "import findspark\n",
        "findspark.init()\n",
        "\n",
        "import numpy as np\n",
        "import matplotlib.pyplot as plt\n",
        "import seaborn as sns\n",
        "\n",
        "from pyspark.sql import SparkSession\n",
        "from pyspark.sql import functions as F\n",
        "from pyspark.sql.window import Window\n",
        "\n",
        "from pyspark.ml import Pipeline\n",
        "from pyspark.ml.classification import LogisticRegression, GBTClassifier, NaiveBayes\n",
        "from pyspark.ml.evaluation import MulticlassClassificationEvaluator\n",
        "from pyspark.ml.feature import VectorAssembler, StandardScaler\n",
        "from pyspark.ml.tuning import ParamGridBuilder, CrossValidator\n",
        "from pyspark.sql.types import LongType"
      ]
    },
    {
      "cell_type": "markdown",
      "source": [
        "# Define Spark Session"
      ],
      "metadata": {
        "collapsed": false,
        "id": "WzIh6vAYaUUt"
      }
    },
    {
      "cell_type": "code",
      "execution_count": 6,
      "metadata": {
        "id": "a-HgwrCtaUUt"
      },
      "outputs": [],
      "source": [
        "spark = SparkSession.\\\n",
        "    builder.\\\n",
        "    appName(\"Sparkify Churn Prediction\").\\\n",
        "    getOrCreate()"
      ]
    },
    {
      "cell_type": "markdown",
      "metadata": {
        "id": "3YoM8_-jaUUu"
      },
      "source": [
        "# Load and Clean Dataset"
      ]
    },
    {
      "cell_type": "code",
      "execution_count": 7,
      "metadata": {
        "id": "fDFZ3oLkaUUu",
        "outputId": "f5bd1050-3383-4730-9488-bdac9a25ee1c",
        "colab": {
          "base_uri": "https://localhost:8080/"
        }
      },
      "outputs": [
        {
          "output_type": "stream",
          "name": "stdout",
          "text": [
            "root\n",
            " |-- artist: string (nullable = true)\n",
            " |-- auth: string (nullable = true)\n",
            " |-- firstName: string (nullable = true)\n",
            " |-- gender: string (nullable = true)\n",
            " |-- itemInSession: long (nullable = true)\n",
            " |-- lastName: string (nullable = true)\n",
            " |-- length: double (nullable = true)\n",
            " |-- level: string (nullable = true)\n",
            " |-- location: string (nullable = true)\n",
            " |-- method: string (nullable = true)\n",
            " |-- page: string (nullable = true)\n",
            " |-- registration: long (nullable = true)\n",
            " |-- sessionId: long (nullable = true)\n",
            " |-- song: string (nullable = true)\n",
            " |-- status: long (nullable = true)\n",
            " |-- ts: long (nullable = true)\n",
            " |-- userAgent: string (nullable = true)\n",
            " |-- userId: string (nullable = true)\n",
            "\n"
          ]
        }
      ],
      "source": [
        "EVENT_DATA_LINK = \"mini_sparkify_event_data.json\"\n",
        "df = spark.read.json(EVENT_DATA_LINK)\n",
        "df.persist()\n",
        "\n",
        "df.printSchema()"
      ]
    },
    {
      "cell_type": "markdown",
      "metadata": {
        "id": "KRAwP-4JaUUv"
      },
      "source": [
        "We can observe that all the columns are `strings` or `longs`."
      ]
    },
    {
      "cell_type": "code",
      "execution_count": 8,
      "metadata": {
        "id": "tHDnEybUaUUv",
        "outputId": "c7f8f7ac-5c81-4a28-c212-6ddaa2ff5763",
        "colab": {
          "base_uri": "https://localhost:8080/"
        }
      },
      "outputs": [
        {
          "output_type": "stream",
          "name": "stdout",
          "text": [
            "+--------------------+---------+---------+------+-------------+--------+---------+-----+--------------------+------+---------------+-------------+---------+--------------------+------+-------------+--------------------+------+\n",
            "|              artist|     auth|firstName|gender|itemInSession|lastName|   length|level|            location|method|           page| registration|sessionId|                song|status|           ts|           userAgent|userId|\n",
            "+--------------------+---------+---------+------+-------------+--------+---------+-----+--------------------+------+---------------+-------------+---------+--------------------+------+-------------+--------------------+------+\n",
            "|      Martha Tilston|Logged In|    Colin|     M|           50| Freeman|277.89016| paid|     Bakersfield, CA|   PUT|       NextSong|1538173362000|       29|           Rockpools|   200|1538352117000|Mozilla/5.0 (Wind...|    30|\n",
            "|    Five Iron Frenzy|Logged In|    Micah|     M|           79|    Long|236.09424| free|Boston-Cambridge-...|   PUT|       NextSong|1538331630000|        8|              Canada|   200|1538352180000|\"Mozilla/5.0 (Win...|     9|\n",
            "|        Adam Lambert|Logged In|    Colin|     M|           51| Freeman| 282.8273| paid|     Bakersfield, CA|   PUT|       NextSong|1538173362000|       29|   Time For Miracles|   200|1538352394000|Mozilla/5.0 (Wind...|    30|\n",
            "|              Enigma|Logged In|    Micah|     M|           80|    Long|262.71302| free|Boston-Cambridge-...|   PUT|       NextSong|1538331630000|        8|Knocking On Forbi...|   200|1538352416000|\"Mozilla/5.0 (Win...|     9|\n",
            "|           Daft Punk|Logged In|    Colin|     M|           52| Freeman|223.60771| paid|     Bakersfield, CA|   PUT|       NextSong|1538173362000|       29|Harder Better Fas...|   200|1538352676000|Mozilla/5.0 (Wind...|    30|\n",
            "|The All-American ...|Logged In|    Micah|     M|           81|    Long|208.29995| free|Boston-Cambridge-...|   PUT|       NextSong|1538331630000|        8|      Don't Leave Me|   200|1538352678000|\"Mozilla/5.0 (Win...|     9|\n",
            "|The Velvet Underg...|Logged In|    Micah|     M|           82|    Long|260.46649| free|Boston-Cambridge-...|   PUT|       NextSong|1538331630000|        8|         Run Run Run|   200|1538352886000|\"Mozilla/5.0 (Win...|     9|\n",
            "|        Starflyer 59|Logged In|    Colin|     M|           53| Freeman|185.44281| paid|     Bakersfield, CA|   PUT|       NextSong|1538173362000|       29|Passengers (Old A...|   200|1538352899000|Mozilla/5.0 (Wind...|    30|\n",
            "|                null|Logged In|    Colin|     M|           54| Freeman|     null| paid|     Bakersfield, CA|   PUT|Add to Playlist|1538173362000|       29|                null|   200|1538352905000|Mozilla/5.0 (Wind...|    30|\n",
            "|            Frumpies|Logged In|    Colin|     M|           55| Freeman|134.47791| paid|     Bakersfield, CA|   PUT|       NextSong|1538173362000|       29|          Fuck Kitty|   200|1538353084000|Mozilla/5.0 (Wind...|    30|\n",
            "+--------------------+---------+---------+------+-------------+--------+---------+-----+--------------------+------+---------------+-------------+---------+--------------------+------+-------------+--------------------+------+\n",
            "only showing top 10 rows\n",
            "\n"
          ]
        }
      ],
      "source": [
        "df.show(n=10)"
      ]
    },
    {
      "cell_type": "markdown",
      "metadata": {
        "id": "yx31oZCCaUUv"
      },
      "source": [
        "## Check for Empty Values"
      ]
    },
    {
      "cell_type": "markdown",
      "metadata": {
        "id": "1r4Xrt1LaUUv"
      },
      "source": [
        "### Check for NaNs"
      ]
    },
    {
      "cell_type": "code",
      "execution_count": 9,
      "metadata": {
        "id": "C94XxaWVaUUw",
        "outputId": "32c82007-7cc1-4f3e-e58e-a0c7b8e753cd",
        "colab": {
          "base_uri": "https://localhost:8080/"
        }
      },
      "outputs": [
        {
          "output_type": "stream",
          "name": "stdout",
          "text": [
            "+------+----+---------+------+-------------+--------+------+-----+--------+------+----+------------+---------+----+------+---+---------+------+\n",
            "|artist|auth|firstName|gender|itemInSession|lastName|length|level|location|method|page|registration|sessionId|song|status| ts|userAgent|userId|\n",
            "+------+----+---------+------+-------------+--------+------+-----+--------+------+----+------------+---------+----+------+---+---------+------+\n",
            "|     0|   0|        0|     0|            0|       0|     0|    0|       0|     0|   0|           0|        0|   0|     0|  0|        0|     0|\n",
            "+------+----+---------+------+-------------+--------+------+-----+--------+------+----+------------+---------+----+------+---+---------+------+\n",
            "\n"
          ]
        }
      ],
      "source": [
        "df.select([F.count(F.when(F.isnan(c), c)).alias(c) for c in df.columns]).show()"
      ]
    },
    {
      "cell_type": "markdown",
      "metadata": {
        "id": "R46pAcvHaUUw"
      },
      "source": [
        "There are no `nans` within the data."
      ]
    },
    {
      "cell_type": "markdown",
      "metadata": {
        "id": "fx_GKPegaUUw"
      },
      "source": [
        "### Check for Nones"
      ]
    },
    {
      "cell_type": "code",
      "execution_count": 10,
      "metadata": {
        "id": "54MezpHXaUUw",
        "outputId": "aca560af-4a8a-41c3-9ca0-929d7ffefb77",
        "colab": {
          "base_uri": "https://localhost:8080/"
        }
      },
      "outputs": [
        {
          "output_type": "stream",
          "name": "stdout",
          "text": [
            "+------+----+---------+------+-------------+--------+------+-----+--------+------+----+------------+---------+-----+------+---+---------+------+\n",
            "|artist|auth|firstName|gender|itemInSession|lastName|length|level|location|method|page|registration|sessionId| song|status| ts|userAgent|userId|\n",
            "+------+----+---------+------+-------------+--------+------+-----+--------+------+----+------------+---------+-----+------+---+---------+------+\n",
            "| 58392|   0|     8346|  8346|            0|    8346| 58392|    0|    8346|     0|   0|        8346|        0|58392|     0|  0|     8346|     0|\n",
            "+------+----+---------+------+-------------+--------+------+-----+--------+------+----+------------+---------+-----+------+---+---------+------+\n",
            "\n"
          ]
        }
      ],
      "source": [
        "df.select([F.count(F.when(F.isnull(c), c)).alias(c) for c in df.columns]).show()"
      ]
    },
    {
      "cell_type": "markdown",
      "metadata": {
        "id": "6VWoOV9vaUUw"
      },
      "source": [
        "Instead of `nans` the missing entries are filled with `Nones`."
      ]
    },
    {
      "cell_type": "markdown",
      "metadata": {
        "id": "4B60bU65aUUw"
      },
      "source": [
        "### Check for Empty Strings"
      ]
    },
    {
      "cell_type": "code",
      "execution_count": 11,
      "metadata": {
        "id": "aQHKh4ctaUUw",
        "outputId": "03b376f9-33c1-48c7-9b79-156911e28069",
        "colab": {
          "base_uri": "https://localhost:8080/"
        }
      },
      "outputs": [
        {
          "output_type": "stream",
          "name": "stdout",
          "text": [
            "+------+----+---------+------+-------------+--------+------+-----+--------+------+----+------------+---------+----+------+---+---------+------+\n",
            "|artist|auth|firstName|gender|itemInSession|lastName|length|level|location|method|page|registration|sessionId|song|status| ts|userAgent|userId|\n",
            "+------+----+---------+------+-------------+--------+------+-----+--------+------+----+------------+---------+----+------+---+---------+------+\n",
            "|     0|   0|        0|     0|            0|       0|     0|    0|       0|     0|   0|           0|        0|   0|     0|  0|        0|  8346|\n",
            "+------+----+---------+------+-------------+--------+------+-----+--------+------+----+------------+---------+----+------+---+---------+------+\n",
            "\n"
          ]
        }
      ],
      "source": [
        "df.select([F.count(F.when(F.col(c) == \"\", c)).alias(c) for c in df.columns]).show()"
      ]
    },
    {
      "cell_type": "code",
      "execution_count": 12,
      "metadata": {
        "id": "n1SzAte4aUUx",
        "outputId": "5798a564-51ca-4ed1-f8c9-7ecff35287b2",
        "colab": {
          "base_uri": "https://localhost:8080/"
        }
      },
      "outputs": [
        {
          "output_type": "stream",
          "name": "stdout",
          "text": [
            "+------+----+---------+------+-------------+--------+------+-----+--------+------+----+------------+---------+-----+------+---+---------+------+\n",
            "|artist|auth|firstName|gender|itemInSession|lastName|length|level|location|method|page|registration|sessionId| song|status| ts|userAgent|userId|\n",
            "+------+----+---------+------+-------------+--------+------+-----+--------+------+----+------------+---------+-----+------+---+---------+------+\n",
            "| 50046|   0|        0|     0|            0|       0| 50046|    0|       0|     0|   0|           0|        0|50046|     0|  0|        0|     0|\n",
            "+------+----+---------+------+-------------+--------+------+-----+--------+------+----+------------+---------+-----+------+---+---------+------+\n",
            "\n"
          ]
        }
      ],
      "source": [
        "df.filter(F.col(\"userId\") != \"\").select([F.count(F.when(F.isnull(c), c)).alias(c) for c in df.columns]).show()"
      ]
    },
    {
      "cell_type": "code",
      "execution_count": 13,
      "metadata": {
        "id": "AxUzEYVIaUUx",
        "outputId": "cc634123-e973-4780-f903-9a75ec5c277a",
        "colab": {
          "base_uri": "https://localhost:8080/"
        }
      },
      "outputs": [
        {
          "output_type": "stream",
          "name": "stdout",
          "text": [
            "+---------+------+\n",
            "|     auth| count|\n",
            "+---------+------+\n",
            "|Cancelled|    52|\n",
            "|Logged In|278102|\n",
            "+---------+------+\n",
            "\n"
          ]
        }
      ],
      "source": [
        "df.filter(F.col(\"userId\") != \"\").select(\"auth\").groupby(\"auth\").count().show()"
      ]
    },
    {
      "cell_type": "markdown",
      "metadata": {
        "id": "J8Dg7_jtaUUx"
      },
      "source": [
        "We can observe that some `users` have the `id` as an `empty string`. The number of open user ids, `8346`, equals the number of None properties, such as: `firstName`, `lastName`, `registration`, `userAgent`. Also, those events have the `auth` state `Cancelled` or `Logged In`. This means that the users who do not have an ID are those who `haven't registered`, yet, into the platform."
      ]
    },
    {
      "cell_type": "markdown",
      "metadata": {
        "id": "Blap6yn1aUUx"
      },
      "source": [
        "When the `artist`, `song`, and `length` columns are `None`, the user stays on pages that do not include listening to music."
      ]
    },
    {
      "cell_type": "markdown",
      "metadata": {
        "id": "cjNxkycIaUUx"
      },
      "source": [
        "## Check for Other Unwanted Symbols"
      ]
    },
    {
      "cell_type": "code",
      "execution_count": 14,
      "metadata": {
        "id": "iY4JKuajaUUy",
        "outputId": "3ebcd560-fbbe-4a26-f681-8982fc3151fa",
        "colab": {
          "base_uri": "https://localhost:8080/"
        }
      },
      "outputs": [
        {
          "output_type": "stream",
          "name": "stdout",
          "text": [
            "+------+----+---------+------+-------------+--------+------+-----+--------+------+----+------------+---------+----+------+---+---------+------+\n",
            "|artist|auth|firstName|gender|itemInSession|lastName|length|level|location|method|page|registration|sessionId|song|status| ts|userAgent|userId|\n",
            "+------+----+---------+------+-------------+--------+------+-----+--------+------+----+------------+---------+----+------+---+---------+------+\n",
            "|     0|   0|        0|     0|            0|       0|     0|    0|       0|     0|   0|           0|        0|   0|     0|  0|        0|     0|\n",
            "+------+----+---------+------+-------------+--------+------+-----+--------+------+----+------------+---------+----+------+---+---------+------+\n",
            "\n"
          ]
        }
      ],
      "source": [
        "df.select([F.count(F.when(F.col(c) == \"-\", c)).alias(c) for c in df.columns]).show()"
      ]
    },
    {
      "cell_type": "code",
      "execution_count": 15,
      "metadata": {
        "id": "rVlqeu01aUUy",
        "outputId": "ad3d6de9-e25d-4edd-fdff-ea682d3a5554",
        "colab": {
          "base_uri": "https://localhost:8080/"
        }
      },
      "outputs": [
        {
          "output_type": "stream",
          "name": "stdout",
          "text": [
            "+------+----+---------+------+-------------+--------+------+-----+--------+------+----+------------+---------+----+------+---+---------+------+\n",
            "|artist|auth|firstName|gender|itemInSession|lastName|length|level|location|method|page|registration|sessionId|song|status| ts|userAgent|userId|\n",
            "+------+----+---------+------+-------------+--------+------+-----+--------+------+----+------------+---------+----+------+---+---------+------+\n",
            "|     0|   0|        0|     0|            0|       0|     0|    0|       0|     0|   0|           0|        0|   0|     0|  0|        0|     0|\n",
            "+------+----+---------+------+-------------+--------+------+-----+--------+------+----+------------+---------+----+------+---+---------+------+\n",
            "\n"
          ]
        }
      ],
      "source": [
        "df.select([F.count(F.when(F.col(c) == \"NaN\", c)).alias(c) for c in df.columns]).show()"
      ]
    },
    {
      "cell_type": "code",
      "execution_count": 16,
      "metadata": {
        "id": "65ML2ZzYaUUy",
        "outputId": "73efb24e-7cd3-484a-f339-f90d7744f5df",
        "colab": {
          "base_uri": "https://localhost:8080/"
        }
      },
      "outputs": [
        {
          "output_type": "stream",
          "name": "stdout",
          "text": [
            "+------+----+---------+------+-------------+--------+------+-----+--------+------+----+------------+---------+----+------+---+---------+------+\n",
            "|artist|auth|firstName|gender|itemInSession|lastName|length|level|location|method|page|registration|sessionId|song|status| ts|userAgent|userId|\n",
            "+------+----+---------+------+-------------+--------+------+-----+--------+------+----+------------+---------+----+------+---+---------+------+\n",
            "|     0|   0|        0|     0|            0|       0|     0|    0|       0|     0|   0|           0|        0|   0|     0|  0|        0|     0|\n",
            "+------+----+---------+------+-------------+--------+------+-----+--------+------+----+------------+---------+----+------+---+---------+------+\n",
            "\n"
          ]
        }
      ],
      "source": [
        "df.select([F.count(F.when(F.col(c) == \"None\", c)).alias(c) for c in df.columns]).show()"
      ]
    },
    {
      "cell_type": "markdown",
      "source": [
        "None of those symbols can be found within the dataset."
      ],
      "metadata": {
        "collapsed": false,
        "id": "cKMUhHD3aUUy"
      }
    },
    {
      "cell_type": "code",
      "execution_count": 17,
      "metadata": {
        "id": "daV40s9KaUUy",
        "outputId": "a2439e98-d758-4e41-ead8-c9f6a597dca2",
        "colab": {
          "base_uri": "https://localhost:8080/"
        }
      },
      "outputs": [
        {
          "output_type": "stream",
          "name": "stdout",
          "text": [
            "+------+------+---------+------+-------------+--------+------+------+--------+------+------+------------+---------+------+------+---+---------+------+\n",
            "|artist|  auth|firstName|gender|itemInSession|lastName|length| level|location|method|  page|registration|sessionId|  song|status| ts|userAgent|userId|\n",
            "+------+------+---------+------+-------------+--------+------+------+--------+------+------+------------+---------+------+------+---+---------+------+\n",
            "|286277|286500|   286500|286500|            0|  286500| 58392|286500|  286500|286500|286500|        8346|        0|286110|     0|  0|   286500|  8346|\n",
            "+------+------+---------+------+-------------+--------+------+------+--------+------+------+------------+---------+------+------+---+---------+------+\n",
            "\n"
          ]
        }
      ],
      "source": [
        "df.select([F.count(F.when(F.col(c).cast(\"int\").isNull(), c)).alias(c) for c in df.columns]).show()"
      ]
    },
    {
      "cell_type": "markdown",
      "source": [
        "There are no `sessionIds` that couldn't be cast to an int type."
      ],
      "metadata": {
        "collapsed": false,
        "id": "fNalYlyQaUUz"
      }
    },
    {
      "cell_type": "markdown",
      "source": [],
      "metadata": {
        "collapsed": false,
        "id": "iPSVaNPtaUUz"
      }
    },
    {
      "cell_type": "markdown",
      "metadata": {
        "id": "mdPLbGcDaUUz"
      },
      "source": [
        "## Unregistered Users"
      ]
    },
    {
      "cell_type": "markdown",
      "metadata": {
        "id": "slPUIL5QaUUz"
      },
      "source": [
        "### Check Unregistered Users Page Distribution"
      ]
    },
    {
      "cell_type": "code",
      "execution_count": 18,
      "metadata": {
        "id": "ulppYMCvaUUz",
        "outputId": "b9207ebe-837a-4bf6-b313-73bf4bed13d5",
        "colab": {
          "base_uri": "https://localhost:8080/"
        }
      },
      "outputs": [
        {
          "output_type": "stream",
          "name": "stdout",
          "text": [
            "+-------------------+-----+\n",
            "|               page|count|\n",
            "+-------------------+-----+\n",
            "|               Home| 4375|\n",
            "|              About|  429|\n",
            "|Submit Registration|    5|\n",
            "|              Login| 3241|\n",
            "|           Register|   18|\n",
            "|               Help|  272|\n",
            "|              Error|    6|\n",
            "+-------------------+-----+\n",
            "\n"
          ]
        }
      ],
      "source": [
        "df.filter(F.col(\"userId\") == \"\").select(\"page\").groupby(\"page\").count().show()"
      ]
    },
    {
      "cell_type": "markdown",
      "metadata": {
        "id": "hbSDW_aOaUUz"
      },
      "source": [
        "Because there is no valuable activity for churn prediction performed by empty users, we can drop them out of the DataFrame."
      ]
    },
    {
      "cell_type": "markdown",
      "metadata": {
        "id": "CJ-gX6y7aUUz"
      },
      "source": [
        "## Drop Unregistered Users"
      ]
    },
    {
      "cell_type": "code",
      "execution_count": 19,
      "metadata": {
        "id": "ewt8JQgZaUUz",
        "outputId": "c287451d-99fb-40be-dc20-0e5ae48f1217",
        "colab": {
          "base_uri": "https://localhost:8080/"
        }
      },
      "outputs": [
        {
          "output_type": "stream",
          "name": "stdout",
          "text": [
            "+------+----+---------+------+-------------+--------+------+-----+--------+------+----+------------+---------+-----+------+---+---------+------+\n",
            "|artist|auth|firstName|gender|itemInSession|lastName|length|level|location|method|page|registration|sessionId| song|status| ts|userAgent|userId|\n",
            "+------+----+---------+------+-------------+--------+------+-----+--------+------+----+------------+---------+-----+------+---+---------+------+\n",
            "| 50046|   0|        0|     0|            0|       0| 50046|    0|       0|     0|   0|           0|        0|50046|     0|  0|        0|     0|\n",
            "+------+----+---------+------+-------------+--------+------+-----+--------+------+----+------------+---------+-----+------+---+---------+------+\n",
            "\n"
          ]
        }
      ],
      "source": [
        "cleaned_df = df.filter(F.col(\"userId\") != \"\")\n",
        "cleaned_df.select([F.count(F.when(F.isnull(c), c)).alias(c) for c in df.columns]).show()"
      ]
    },
    {
      "cell_type": "markdown",
      "metadata": {
        "id": "tR22zOhUaUU0"
      },
      "source": [
        "## Empty Artists"
      ]
    },
    {
      "cell_type": "markdown",
      "metadata": {
        "id": "6TBfZCCFaUU0"
      },
      "source": [
        "### Check Empty Artists Distribution"
      ]
    },
    {
      "cell_type": "code",
      "execution_count": 20,
      "metadata": {
        "id": "8NgwPYnoaUU3",
        "outputId": "6ccba864-f584-448f-c868-43a4b50d86e0",
        "colab": {
          "base_uri": "https://localhost:8080/"
        }
      },
      "outputs": [
        {
          "output_type": "stream",
          "name": "stdout",
          "text": [
            "+------+----+------+---------------+\n",
            "|artist|song|userId|           page|\n",
            "+------+----+------+---------------+\n",
            "|  null|null|    30|Add to Playlist|\n",
            "|  null|null|     9|    Roll Advert|\n",
            "|  null|null|     9|      Thumbs Up|\n",
            "|  null|null|    54|      Downgrade|\n",
            "|  null|null|    54|      Thumbs Up|\n",
            "|  null|null|     9|    Thumbs Down|\n",
            "|  null|null|     9|           Home|\n",
            "|  null|null|     9|         Logout|\n",
            "|  null|null|    74|      Thumbs Up|\n",
            "|  null|null|      |           Home|\n",
            "|  null|null|      |           Help|\n",
            "|  null|null|      |           Home|\n",
            "|  null|null|      |          Login|\n",
            "|  null|null|     9|           Home|\n",
            "|  null|null|    30|    Thumbs Down|\n",
            "|  null|null|     4|         Logout|\n",
            "|  null|null|      |           Home|\n",
            "|  null|null|      |          Login|\n",
            "|  null|null|     4|           Home|\n",
            "|  null|null|    74|Add to Playlist|\n",
            "+------+----+------+---------------+\n",
            "only showing top 20 rows\n",
            "\n"
          ]
        }
      ],
      "source": [
        "df.filter(F.isnull(F.col(\"artist\"))).select([\"artist\", \"song\", \"userId\", \"page\"]).show()"
      ]
    },
    {
      "cell_type": "code",
      "execution_count": 21,
      "metadata": {
        "id": "lwxKJcQkaUU4",
        "outputId": "e7d56bd5-32ce-4d17-f69f-825becf34b6f",
        "colab": {
          "base_uri": "https://localhost:8080/"
        }
      },
      "outputs": [
        {
          "output_type": "stream",
          "name": "stdout",
          "text": [
            "+--------------------+-----+\n",
            "|                page|count|\n",
            "+--------------------+-----+\n",
            "|              Cancel|   52|\n",
            "|    Submit Downgrade|   63|\n",
            "|         Thumbs Down| 2546|\n",
            "|                Home|14457|\n",
            "|           Downgrade| 2055|\n",
            "|         Roll Advert| 3933|\n",
            "|              Logout| 3226|\n",
            "|       Save Settings|  310|\n",
            "|Cancellation Conf...|   52|\n",
            "|               About|  924|\n",
            "| Submit Registration|    5|\n",
            "|            Settings| 1514|\n",
            "|               Login| 3241|\n",
            "|            Register|   18|\n",
            "|     Add to Playlist| 6526|\n",
            "|          Add Friend| 4277|\n",
            "|           Thumbs Up|12551|\n",
            "|                Help| 1726|\n",
            "|             Upgrade|  499|\n",
            "|               Error|  258|\n",
            "+--------------------+-----+\n",
            "only showing top 20 rows\n",
            "\n"
          ]
        }
      ],
      "source": [
        "df.filter(F.isnull(F.col(\"artist\"))).select([\"artist\", \"song\", \"userId\", \"page\"]).groupby(\"page\").count().show()"
      ]
    },
    {
      "cell_type": "markdown",
      "metadata": {
        "id": "oZRayL0_aUU4"
      },
      "source": [
        "We can observe that when the artist is null, the users spend time on different pages than actually listening to music. In this case, such information is valuable for understanding the behavior of registered users."
      ]
    },
    {
      "cell_type": "markdown",
      "metadata": {
        "id": "-41QdnutaUU4"
      },
      "source": [
        "### Impute empty values"
      ]
    },
    {
      "cell_type": "code",
      "execution_count": 22,
      "metadata": {
        "id": "1O7CWEi9aUU4",
        "outputId": "3b4ba263-e0c4-4b87-b683-03bbd8000ac1",
        "colab": {
          "base_uri": "https://localhost:8080/"
        }
      },
      "outputs": [
        {
          "output_type": "stream",
          "name": "stdout",
          "text": [
            "+------+----+---------+------+-------------+--------+------+-----+--------+------+----+------------+---------+----+------+---+---------+------+\n",
            "|artist|auth|firstName|gender|itemInSession|lastName|length|level|location|method|page|registration|sessionId|song|status| ts|userAgent|userId|\n",
            "+------+----+---------+------+-------------+--------+------+-----+--------+------+----+------------+---------+----+------+---+---------+------+\n",
            "|     0|   0|        0|     0|            0|       0|     0|    0|       0|     0|   0|           0|        0|   0|     0|  0|        0|     0|\n",
            "+------+----+---------+------+-------------+--------+------+-----+--------+------+----+------------+---------+----+------+---+---------+------+\n",
            "\n"
          ]
        }
      ],
      "source": [
        "# Fill the length of the song with 0.\n",
        "# Fill the artist and the song with a string constant to signal that those pages don't have such information.\n",
        "cleaned_df = cleaned_df.fillna({\n",
        "    \"length\": 0,\n",
        "    \"artist\": \"unknown\",\n",
        "    \"song\": \"unknown\"\n",
        "})\n",
        "cleaned_df.select([F.count(F.when(F.isnull(c), c)).alias(c) for c in df.columns]).show()"
      ]
    },
    {
      "cell_type": "markdown",
      "metadata": {
        "id": "qfTdRZJnaUU4"
      },
      "source": [
        "Great! Now our data no longer has any `None` values. The last cleaning step is to check the types of the variables."
      ]
    },
    {
      "cell_type": "markdown",
      "metadata": {
        "id": "w3mWZTY6aUU4"
      },
      "source": [
        "## Check Types"
      ]
    },
    {
      "cell_type": "code",
      "execution_count": 23,
      "metadata": {
        "id": "-rih1kI6aUU4",
        "outputId": "7c413aef-b7a6-4c21-89f2-2bac9c99e128",
        "colab": {
          "base_uri": "https://localhost:8080/"
        }
      },
      "outputs": [
        {
          "output_type": "stream",
          "name": "stdout",
          "text": [
            "root\n",
            " |-- artist: string (nullable = false)\n",
            " |-- auth: string (nullable = true)\n",
            " |-- firstName: string (nullable = true)\n",
            " |-- gender: string (nullable = true)\n",
            " |-- itemInSession: long (nullable = true)\n",
            " |-- lastName: string (nullable = true)\n",
            " |-- length: double (nullable = false)\n",
            " |-- level: string (nullable = true)\n",
            " |-- location: string (nullable = true)\n",
            " |-- method: string (nullable = true)\n",
            " |-- page: string (nullable = true)\n",
            " |-- registration: long (nullable = true)\n",
            " |-- sessionId: long (nullable = true)\n",
            " |-- song: string (nullable = false)\n",
            " |-- status: long (nullable = true)\n",
            " |-- ts: long (nullable = true)\n",
            " |-- userAgent: string (nullable = true)\n",
            " |-- userId: string (nullable = true)\n",
            "\n"
          ]
        }
      ],
      "source": [
        "cleaned_df.printSchema()"
      ]
    },
    {
      "cell_type": "code",
      "execution_count": 24,
      "metadata": {
        "id": "44Dgi54LaUU5",
        "outputId": "ba780ebc-e513-43dc-d37b-ca09298ea148",
        "colab": {
          "base_uri": "https://localhost:8080/"
        }
      },
      "outputs": [
        {
          "output_type": "stream",
          "name": "stdout",
          "text": [
            "+----------------+---------+---------+------+-------------+--------+---------+-----+--------------------+------+--------+-------------+---------+--------------------+------+-------------+--------------------+------+\n",
            "|          artist|     auth|firstName|gender|itemInSession|lastName|   length|level|            location|method|    page| registration|sessionId|                song|status|           ts|           userAgent|userId|\n",
            "+----------------+---------+---------+------+-------------+--------+---------+-----+--------------------+------+--------+-------------+---------+--------------------+------+-------------+--------------------+------+\n",
            "|  Martha Tilston|Logged In|    Colin|     M|           50| Freeman|277.89016| paid|     Bakersfield, CA|   PUT|NextSong|1538173362000|       29|           Rockpools|   200|1538352117000|Mozilla/5.0 (Wind...|    30|\n",
            "|Five Iron Frenzy|Logged In|    Micah|     M|           79|    Long|236.09424| free|Boston-Cambridge-...|   PUT|NextSong|1538331630000|        8|              Canada|   200|1538352180000|\"Mozilla/5.0 (Win...|     9|\n",
            "|    Adam Lambert|Logged In|    Colin|     M|           51| Freeman| 282.8273| paid|     Bakersfield, CA|   PUT|NextSong|1538173362000|       29|   Time For Miracles|   200|1538352394000|Mozilla/5.0 (Wind...|    30|\n",
            "|          Enigma|Logged In|    Micah|     M|           80|    Long|262.71302| free|Boston-Cambridge-...|   PUT|NextSong|1538331630000|        8|Knocking On Forbi...|   200|1538352416000|\"Mozilla/5.0 (Win...|     9|\n",
            "|       Daft Punk|Logged In|    Colin|     M|           52| Freeman|223.60771| paid|     Bakersfield, CA|   PUT|NextSong|1538173362000|       29|Harder Better Fas...|   200|1538352676000|Mozilla/5.0 (Wind...|    30|\n",
            "+----------------+---------+---------+------+-------------+--------+---------+-----+--------------------+------+--------+-------------+---------+--------------------+------+-------------+--------------------+------+\n",
            "only showing top 5 rows\n",
            "\n"
          ]
        }
      ],
      "source": [
        "cleaned_df.show(n=5)"
      ]
    },
    {
      "cell_type": "markdown",
      "metadata": {
        "id": "EbPnJD47aUU5"
      },
      "source": [
        "All the types are looking all right. We can proceed to EDA."
      ]
    },
    {
      "cell_type": "markdown",
      "metadata": {
        "id": "yyMuZ2FRaUU5"
      },
      "source": [
        "# Exploratory Data Analysis"
      ]
    },
    {
      "cell_type": "markdown",
      "metadata": {
        "id": "OUU-lgHLaUU5"
      },
      "source": [
        "### Define Churn\n",
        "\n",
        "We will consider that a user is `churn` when the subscription is canceled."
      ]
    },
    {
      "cell_type": "code",
      "execution_count": 25,
      "metadata": {
        "id": "bsF6FAyiaUU5",
        "outputId": "2a7da6f7-16ea-4e4b-a013-4047808627ac",
        "colab": {
          "base_uri": "https://localhost:8080/"
        }
      },
      "outputs": [
        {
          "output_type": "stream",
          "name": "stdout",
          "text": [
            "+-------------------------+\n",
            "|Cancellation Confirmation|\n",
            "+-------------------------+\n",
            "|                       52|\n",
            "+-------------------------+\n",
            "\n"
          ]
        }
      ],
      "source": [
        "cleaned_df.select(F.count(F.when(F.col(\"page\") == \"Cancellation Confirmation\", \"page\")).alias(\"Cancellation Confirmation\")).show()"
      ]
    },
    {
      "cell_type": "code",
      "execution_count": 26,
      "metadata": {
        "id": "7zoHncyuaUU5",
        "outputId": "20d65c51-7bde-4d2b-ed21-d458be5a199d",
        "colab": {
          "base_uri": "https://localhost:8080/"
        }
      },
      "outputs": [
        {
          "output_type": "stream",
          "name": "stdout",
          "text": [
            "+----------------+---------+---------+------+-------------+--------+---------+-----+--------------------+------+--------+-------------+---------+--------------------+------+-------------+--------------------+------+----------+\n",
            "|          artist|     auth|firstName|gender|itemInSession|lastName|   length|level|            location|method|    page| registration|sessionId|                song|status|           ts|           userAgent|userId|churnEvent|\n",
            "+----------------+---------+---------+------+-------------+--------+---------+-----+--------------------+------+--------+-------------+---------+--------------------+------+-------------+--------------------+------+----------+\n",
            "|  Martha Tilston|Logged In|    Colin|     M|           50| Freeman|277.89016| paid|     Bakersfield, CA|   PUT|NextSong|1538173362000|       29|           Rockpools|   200|1538352117000|Mozilla/5.0 (Wind...|    30|         0|\n",
            "|Five Iron Frenzy|Logged In|    Micah|     M|           79|    Long|236.09424| free|Boston-Cambridge-...|   PUT|NextSong|1538331630000|        8|              Canada|   200|1538352180000|\"Mozilla/5.0 (Win...|     9|         0|\n",
            "|    Adam Lambert|Logged In|    Colin|     M|           51| Freeman| 282.8273| paid|     Bakersfield, CA|   PUT|NextSong|1538173362000|       29|   Time For Miracles|   200|1538352394000|Mozilla/5.0 (Wind...|    30|         0|\n",
            "|          Enigma|Logged In|    Micah|     M|           80|    Long|262.71302| free|Boston-Cambridge-...|   PUT|NextSong|1538331630000|        8|Knocking On Forbi...|   200|1538352416000|\"Mozilla/5.0 (Win...|     9|         0|\n",
            "|       Daft Punk|Logged In|    Colin|     M|           52| Freeman|223.60771| paid|     Bakersfield, CA|   PUT|NextSong|1538173362000|       29|Harder Better Fas...|   200|1538352676000|Mozilla/5.0 (Wind...|    30|         0|\n",
            "+----------------+---------+---------+------+-------------+--------+---------+-----+--------------------+------+--------+-------------+---------+--------------------+------+-------------+--------------------+------+----------+\n",
            "only showing top 5 rows\n",
            "\n"
          ]
        }
      ],
      "source": [
        "# First, create the churn event based on the visited page.\n",
        "# The churnEvent will be different for every event/visited page.\n",
        "labeled_df = cleaned_df.withColumn(\"churnEvent\", F.when(F.col(\"page\") == \"Cancellation Confirmation\", 1).otherwise(0))\n",
        "labeled_df.show(n=5)"
      ]
    },
    {
      "cell_type": "code",
      "execution_count": 27,
      "metadata": {
        "id": "Js_-gvmQaUU5",
        "outputId": "f68aef1d-3d78-4124-8ae3-237b6a297781",
        "colab": {
          "base_uri": "https://localhost:8080/"
        }
      },
      "outputs": [
        {
          "output_type": "stream",
          "name": "stdout",
          "text": [
            "+--------------------+---------+---------+------+-------------+---------+---------+-----+-----------------+------+--------------------+-------------+---------+--------------------+------+-------------+--------------------+------+----------+-----+\n",
            "|              artist|     auth|firstName|gender|itemInSession| lastName|   length|level|         location|method|                page| registration|sessionId|                song|status|           ts|           userAgent|userId|churnEvent|churn|\n",
            "+--------------------+---------+---------+------+-------------+---------+---------+-----+-----------------+------+--------------------+-------------+---------+--------------------+------+-------------+--------------------+------+----------+-----+\n",
            "|             unknown|Logged In|    Molly|     F|            1|Patterson|      0.0| free|Memphis, TN-MS-AR|   GET|                Home|1535498705000|      403|             unknown|   200|1538657235000|Mozilla/5.0 (X11;...|   122|         0|    1|\n",
            "|             unknown|Logged In|    Molly|     F|            2|Patterson|      0.0| free|Memphis, TN-MS-AR|   PUT|              Logout|1535498705000|      403|             unknown|   307|1538657236000|Mozilla/5.0 (X11;...|   122|         0|    1|\n",
            "|             unknown|Logged In|    Molly|     F|            3|Patterson|      0.0| free|Memphis, TN-MS-AR|   GET|                Home|1535498705000|      611|             unknown|   200|1539173538000|Mozilla/5.0 (X11;...|   122|         0|    1|\n",
            "|         Danger Doom|Logged In|    Molly|     F|            4|Patterson|160.36526| free|Memphis, TN-MS-AR|   PUT|            NextSong|1535498705000|      611|Old School Rules ...|   200|1539173664000|Mozilla/5.0 (X11;...|   122|         0|    1|\n",
            "|Florence + The Ma...|Logged In|    Molly|     F|            5|Patterson| 131.3171| free|Memphis, TN-MS-AR|   PUT|            NextSong|1535498705000|      611|    Kiss With A Fist|   200|1539173824000|Mozilla/5.0 (X11;...|   122|         0|    1|\n",
            "|       Groove Armada|Logged In|    Molly|     F|            6|Patterson|309.68118| free|Memphis, TN-MS-AR|   PUT|            NextSong|1535498705000|      611|       Serve Chilled|   200|1539173955000|Mozilla/5.0 (X11;...|   122|         0|    1|\n",
            "|The All-American ...|Logged In|    Molly|     F|            7|Patterson|194.79465| free|Memphis, TN-MS-AR|   PUT|            NextSong|1535498705000|      611|Mona Lisa (When T...|   200|1539174264000|Mozilla/5.0 (X11;...|   122|         0|    1|\n",
            "|Metallica / Maria...|Logged In|    Molly|     F|            8|Patterson|279.11791| free|Memphis, TN-MS-AR|   PUT|            NextSong|1535498705000|      611|  The Memory Remains|   200|1539174458000|Mozilla/5.0 (X11;...|   122|         0|    1|\n",
            "|             unknown|Logged In|    Molly|     F|            9|Patterson|      0.0| free|Memphis, TN-MS-AR|   GET|         Roll Advert|1535498705000|      611|             unknown|   200|1539174569000|Mozilla/5.0 (X11;...|   122|         0|    1|\n",
            "|             unknown|Logged In|    Molly|     F|            0|Patterson|      0.0| free|Memphis, TN-MS-AR|   GET|                Home|1535498705000|      691|             unknown|   200|1539886900000|Mozilla/5.0 (X11;...|   122|         0|    1|\n",
            "|Atlanta Rhythm Se...|Logged In|    Molly|     F|            1|Patterson|217.80853| free|Memphis, TN-MS-AR|   PUT|            NextSong|1535498705000|      691|           Doraville|   200|1539886903000|Mozilla/5.0 (X11;...|   122|         0|    1|\n",
            "|           Lady GaGa|Logged In|    Molly|     F|            2|Patterson|274.18077| free|Memphis, TN-MS-AR|   PUT|            NextSong|1535498705000|      691|           Alejandro|   200|1539887120000|Mozilla/5.0 (X11;...|   122|         0|    1|\n",
            "|       Guns N' Roses|Logged In|    Molly|     F|            3|Patterson| 184.0322| free|Memphis, TN-MS-AR|   PUT|            NextSong|1535498705000|      691|    Live And Let Die|   200|1539887394000|Mozilla/5.0 (X11;...|   122|         0|    1|\n",
            "|        Cyndi Lauper|Logged In|    Molly|     F|            4|Patterson|228.88444| free|Memphis, TN-MS-AR|   PUT|            NextSong|1535498705000|      691|Girls Just Want T...|   200|1539887578000|Mozilla/5.0 (X11;...|   122|         0|    1|\n",
            "|             unknown|Logged In|    Molly|     F|            5|Patterson|      0.0| free|Memphis, TN-MS-AR|   GET|         Roll Advert|1535498705000|      691|             unknown|   200|1539887683000|Mozilla/5.0 (X11;...|   122|         0|    1|\n",
            "|           Cat Power|Logged In|    Molly|     F|            6|Patterson| 142.8371| free|Memphis, TN-MS-AR|   PUT|            NextSong|1535498705000|      691|         Sea Of Love|   200|1539887806000|Mozilla/5.0 (X11;...|   122|         0|    1|\n",
            "|   The Rockin Rebels|Logged In|    Molly|     F|            7|Patterson| 138.1873| free|Memphis, TN-MS-AR|   PUT|            NextSong|1535498705000|      691|        Wild Weekend|   200|1539887948000|Mozilla/5.0 (X11;...|   122|         0|    1|\n",
            "|             unknown|Logged In|    Molly|     F|            8|Patterson|      0.0| free|Memphis, TN-MS-AR|   GET|                Home|1535498705000|      691|             unknown|   200|1539888010000|Mozilla/5.0 (X11;...|   122|         0|    1|\n",
            "|   Cage The Elephant|Logged In|    Molly|     F|            0|Patterson| 228.0224| free|Memphis, TN-MS-AR|   PUT|            NextSong|1535498705000|     1029|Back Against The ...|   200|1540055184000|Mozilla/5.0 (X11;...|   122|         0|    1|\n",
            "|             unknown|Logged In|    Molly|     F|            1|Patterson|      0.0| free|Memphis, TN-MS-AR|   GET|                Home|1535498705000|     1029|             unknown|   200|1540055184000|Mozilla/5.0 (X11;...|   122|         0|    1|\n",
            "|            De-Phazz|Logged In|    Molly|     F|            2|Patterson|220.99546| free|Memphis, TN-MS-AR|   PUT|            NextSong|1535498705000|     1029|       Belle de Jour|   200|1540055412000|Mozilla/5.0 (X11;...|   122|         0|    1|\n",
            "|   King Biscuit Time|Logged In|    Molly|     F|            3|Patterson|227.52608| free|Memphis, TN-MS-AR|   PUT|            NextSong|1535498705000|     1029|      Time To Get Up|   200|1540055632000|Mozilla/5.0 (X11;...|   122|         0|    1|\n",
            "|             unknown|Logged In|    Molly|     F|            4|Patterson|      0.0| free|Memphis, TN-MS-AR|   GET|             Upgrade|1535498705000|     1029|             unknown|   200|1540055690000|Mozilla/5.0 (X11;...|   122|         0|    1|\n",
            "|             unknown|Logged In|    Molly|     F|            5|Patterson|      0.0| free|Memphis, TN-MS-AR|   GET|             Upgrade|1535498705000|     1029|             unknown|   200|1540055771000|Mozilla/5.0 (X11;...|   122|         0|    1|\n",
            "|             unknown|Logged In|    Molly|     F|            6|Patterson|      0.0| free|Memphis, TN-MS-AR|   PUT|      Submit Upgrade|1535498705000|     1029|             unknown|   307|1540055772000|Mozilla/5.0 (X11;...|   122|         0|    1|\n",
            "|             unknown|Logged In|    Molly|     F|            7|Patterson|      0.0| paid|Memphis, TN-MS-AR|   GET|                Home|1535498705000|     1029|             unknown|   200|1540055776000|Mozilla/5.0 (X11;...|   122|         0|    1|\n",
            "|             unknown|Logged In|    Molly|     F|            8|Patterson|      0.0| paid|Memphis, TN-MS-AR|   PUT|          Add Friend|1535498705000|     1029|             unknown|   307|1540055777000|Mozilla/5.0 (X11;...|   122|         0|    1|\n",
            "|Afro-Cuban All Stars|Logged In|    Molly|     F|            9|Patterson| 288.1824| paid|Memphis, TN-MS-AR|   PUT|            NextSong|1535498705000|     1029|MarÃÂ­a Caracole...|   200|1540055859000|Mozilla/5.0 (X11;...|   122|         0|    1|\n",
            "|       Spiritualized|Logged In|    Molly|     F|           10|Patterson|344.99873| paid|Memphis, TN-MS-AR|   PUT|            NextSong|1535498705000|     1029|Why Don't You Smi...|   200|1540056147000|Mozilla/5.0 (X11;...|   122|         0|    1|\n",
            "|            Cyberfit|Logged In|    Molly|     F|           11|Patterson|303.15057| paid|Memphis, TN-MS-AR|   PUT|            NextSong|1535498705000|     1029|           Pojo Pojo|   200|1540056491000|Mozilla/5.0 (X11;...|   122|         0|    1|\n",
            "|Alison Krauss / U...|Logged In|    Molly|     F|           12|Patterson|171.04934| paid|Memphis, TN-MS-AR|   PUT|            NextSong|1535498705000|     1029|            Restless|   200|1540056794000|Mozilla/5.0 (X11;...|   122|         0|    1|\n",
            "|             Cartola|Logged In|    Molly|     F|           13|Patterson|  127.242| paid|Memphis, TN-MS-AR|   PUT|            NextSong|1535498705000|     1029|            Tive Sim|   200|1540056965000|Mozilla/5.0 (X11;...|   122|         0|    1|\n",
            "|             unknown|Logged In|    Molly|     F|           14|Patterson|      0.0| paid|Memphis, TN-MS-AR|   PUT|           Thumbs Up|1535498705000|     1029|             unknown|   307|1540056966000|Mozilla/5.0 (X11;...|   122|         0|    1|\n",
            "|Thao with The Get...|Logged In|    Molly|     F|           15|Patterson|193.74975| paid|Memphis, TN-MS-AR|   PUT|            NextSong|1535498705000|     1029|           Geography|   200|1540057092000|Mozilla/5.0 (X11;...|   122|         0|    1|\n",
            "|          Kanye West|Logged In|    Molly|     F|           16|Patterson|278.07302| paid|Memphis, TN-MS-AR|   PUT|            NextSong|1535498705000|     1029|    Through The Wire|   200|1540057285000|Mozilla/5.0 (X11;...|   122|         0|    1|\n",
            "|The Lonely Island...|Logged In|    Molly|     F|           17|Patterson| 192.9922| paid|Memphis, TN-MS-AR|   PUT|            NextSong|1535498705000|     1029|             Boombox|   200|1540057563000|Mozilla/5.0 (X11;...|   122|         0|    1|\n",
            "|Soulja Boy Tell'e...|Logged In|    Molly|     F|           18|Patterson| 194.2722| paid|Memphis, TN-MS-AR|   PUT|            NextSong|1535498705000|     1029|Kiss Me Thru The ...|   200|1540057755000|Mozilla/5.0 (X11;...|   122|         0|    1|\n",
            "|      More Fire Crew|Logged In|    Molly|     F|           19|Patterson| 353.4624| paid|Memphis, TN-MS-AR|   PUT|            NextSong|1535498705000|     1029|         Never Trust|   200|1540057949000|Mozilla/5.0 (X11;...|   122|         0|    1|\n",
            "|         Donna Lewis|Logged In|    Molly|     F|           20|Patterson|240.95302| paid|Memphis, TN-MS-AR|   PUT|            NextSong|1535498705000|     1029|I Love You Always...|   200|1540058302000|Mozilla/5.0 (X11;...|   122|         0|    1|\n",
            "|  Renegade Soundwave|Logged In|    Molly|     F|           21|Patterson|224.67873| paid|Memphis, TN-MS-AR|   PUT|            NextSong|1535498705000|     1029|  Pocket Porn (1990)|   200|1540058542000|Mozilla/5.0 (X11;...|   122|         0|    1|\n",
            "|         Cat Stevens|Logged In|    Molly|     F|           22|Patterson|225.17506| paid|Memphis, TN-MS-AR|   PUT|            NextSong|1535498705000|     1029|            Sad Lisa|   200|1540058766000|Mozilla/5.0 (X11;...|   122|         0|    1|\n",
            "|            La Renga|Logged In|    Molly|     F|           23|Patterson|307.35628| paid|Memphis, TN-MS-AR|   PUT|            NextSong|1535498705000|     1029|Triste CanciÃÂ³n...|   200|1540058991000|Mozilla/5.0 (X11;...|   122|         0|    1|\n",
            "|              Eagles|Logged In|    Molly|     F|           24|Patterson|241.78893| paid|Memphis, TN-MS-AR|   PUT|            NextSong|1535498705000|     1029|Take The Devil (L...|   200|1540059298000|Mozilla/5.0 (X11;...|   122|         0|    1|\n",
            "|             unknown|Logged In|    Molly|     F|           25|Patterson|      0.0| paid|Memphis, TN-MS-AR|   PUT|         Thumbs Down|1535498705000|     1029|             unknown|   307|1540059299000|Mozilla/5.0 (X11;...|   122|         0|    1|\n",
            "|        Modest Mouse|Logged In|    Molly|     F|           26|Patterson|246.17751| paid|Memphis, TN-MS-AR|   PUT|            NextSong|1535498705000|     1029|           Dashboard|   200|1540059539000|Mozilla/5.0 (X11;...|   122|         0|    1|\n",
            "|   59 Times the Pain|Logged In|    Molly|     F|           27|Patterson|144.95302| paid|Memphis, TN-MS-AR|   PUT|            NextSong|1535498705000|     1029|          Found Home|   200|1540059785000|Mozilla/5.0 (X11;...|   122|         0|    1|\n",
            "|         Suzi Quatro|Logged In|    Molly|     F|           28|Patterson|239.72526| paid|Memphis, TN-MS-AR|   PUT|            NextSong|1535498705000|     1029|       Daytona Demon|   200|1540059929000|Mozilla/5.0 (X11;...|   122|         0|    1|\n",
            "|             unknown|Logged In|    Molly|     F|           29|Patterson|      0.0| paid|Memphis, TN-MS-AR|   PUT|           Thumbs Up|1535498705000|     1029|             unknown|   307|1540059930000|Mozilla/5.0 (X11;...|   122|         0|    1|\n",
            "|            No Doubt|Logged In|    Molly|     F|           30|Patterson|241.81506| paid|Memphis, TN-MS-AR|   PUT|            NextSong|1535498705000|     1029|             Running|   200|1540060168000|Mozilla/5.0 (X11;...|   122|         0|    1|\n",
            "|        Lisac Josipa|Logged In|    Molly|     F|           31|Patterson|  271.882| paid|Memphis, TN-MS-AR|   PUT|            NextSong|1535498705000|     1029|       Le~aj od suza|   200|1540060409000|Mozilla/5.0 (X11;...|   122|         0|    1|\n",
            "|         Kim Burrell|Logged In|    Molly|     F|           32|Patterson|249.67791| paid|Memphis, TN-MS-AR|   PUT|            NextSong|1535498705000|     1029|        Just as I Am|   200|1540060680000|Mozilla/5.0 (X11;...|   122|         0|    1|\n",
            "|              Xzibit|Logged In|    Molly|     F|           33|Patterson|262.29506| paid|Memphis, TN-MS-AR|   PUT|            NextSong|1535498705000|     1029|       Chamber Music|   200|1540060929000|Mozilla/5.0 (X11;...|   122|         0|    1|\n",
            "|        Brad Paisley|Logged In|    Molly|     F|           34|Patterson|266.91873| paid|Memphis, TN-MS-AR|   PUT|            NextSong|1535498705000|     1029|    She's Everything|   200|1540061191000|Mozilla/5.0 (X11;...|   122|         0|    1|\n",
            "|        New Radicals|Logged In|    Molly|     F|           35|Patterson|219.19302| paid|Memphis, TN-MS-AR|   PUT|            NextSong|1535498705000|     1029|  Someday We'll Know|   200|1540061457000|Mozilla/5.0 (X11;...|   122|         0|    1|\n",
            "|               3OH!3|Logged In|    Molly|     F|           36|Patterson|  192.522| paid|Memphis, TN-MS-AR|   PUT|            NextSong|1535498705000|     1029|My First Kiss (Fe...|   200|1540061676000|Mozilla/5.0 (X11;...|   122|         0|    1|\n",
            "|      Robert Johnson|Logged In|    Molly|     F|           37|Patterson|154.09587| paid|Memphis, TN-MS-AR|   PUT|            NextSong|1535498705000|     1029|I?'m A Steady Rol...|   200|1540061868000|Mozilla/5.0 (X11;...|   122|         0|    1|\n",
            "|             unknown|Logged In|    Molly|     F|           38|Patterson|      0.0| paid|Memphis, TN-MS-AR|   PUT|           Thumbs Up|1535498705000|     1029|             unknown|   307|1540061869000|Mozilla/5.0 (X11;...|   122|         0|    1|\n",
            "|             unknown|Logged In|    Molly|     F|           39|Patterson|      0.0| paid|Memphis, TN-MS-AR|   PUT|     Add to Playlist|1535498705000|     1029|             unknown|   200|1540061987000|Mozilla/5.0 (X11;...|   122|         0|    1|\n",
            "|         Bob Newhart|Logged In|    Molly|     F|           40|Patterson|367.98649| paid|Memphis, TN-MS-AR|   PUT|            NextSong|1535498705000|     1029|Introducing Tobac...|   200|1540062022000|Mozilla/5.0 (X11;...|   122|         0|    1|\n",
            "|             unknown|Logged In|    Molly|     F|           41|Patterson|      0.0| paid|Memphis, TN-MS-AR|   GET|            Settings|1535498705000|     1029|             unknown|   200|1540062049000|Mozilla/5.0 (X11;...|   122|         0|    1|\n",
            "|             unknown|Logged In|    Molly|     F|           42|Patterson|      0.0| paid|Memphis, TN-MS-AR|   PUT|              Cancel|1535498705000|     1029|             unknown|   307|1540062050000|Mozilla/5.0 (X11;...|   122|         0|    1|\n",
            "|             unknown|Cancelled|    Molly|     F|           43|Patterson|      0.0| paid|Memphis, TN-MS-AR|   GET|Cancellation Conf...|1535498705000|     1029|             unknown|   200|1540062068000|Mozilla/5.0 (X11;...|   122|         1|    1|\n",
            "+--------------------+---------+---------+------+-------------+---------+---------+-----+-----------------+------+--------------------+-------------+---------+--------------------+------+-------------+--------------------+------+----------+-----+\n",
            "\n"
          ]
        }
      ],
      "source": [
        "# Now create the churn label which is unique for every user.\n",
        "labeled_df = labeled_df.withColumn(\"churn\", F.sum(\"churnEvent\").over(Window.partitionBy(\"userId\")))\n",
        "labeled_df = labeled_df.withColumn(\"churn\", F.when(F.col(\"churn\") >= 1, 1).otherwise(0))\n",
        "labeled_df.filter(F.col(\"userId\") == \"122\").show(n=100)"
      ]
    },
    {
      "cell_type": "markdown",
      "metadata": {
        "id": "OWNrkl4KaUU6"
      },
      "source": [
        "### Explore Data"
      ]
    },
    {
      "cell_type": "code",
      "execution_count": 28,
      "metadata": {
        "id": "c2RP_xdTaUU6"
      },
      "outputs": [],
      "source": [
        "palette = sns.color_palette(\"Set2\")\n",
        "sns.set_palette(palette)"
      ]
    },
    {
      "cell_type": "markdown",
      "metadata": {
        "id": "tHEunr5PaUU6"
      },
      "source": [
        "##### Sample the Dataset for EDA\n",
        "This is useful for when the full dataset is used."
      ]
    },
    {
      "cell_type": "code",
      "execution_count": 29,
      "metadata": {
        "id": "vDVWC504aUU6",
        "outputId": "2a7b89bf-2d10-4e05-d69c-293c919fea56",
        "colab": {
          "base_uri": "https://localhost:8080/"
        }
      },
      "outputs": [
        {
          "output_type": "stream",
          "name": "stdout",
          "text": [
            "Sampling fraction for EDA: 100.00%\n",
            "+-----------+---------+---------+------+-------------+--------+---------+-----+--------------------+------+--------+-------------+---------+----------------+------+-------------+--------------------+------+----------+-----+\n",
            "|     artist|     auth|firstName|gender|itemInSession|lastName|   length|level|            location|method|    page| registration|sessionId|            song|status|           ts|           userAgent|userId|churnEvent|churn|\n",
            "+-----------+---------+---------+------+-------------+--------+---------+-----+--------------------+------+--------+-------------+---------+----------------+------+-------------+--------------------+------+----------+-----+\n",
            "|Evanescence|Logged In|    Colin|     M|            0|  Larson|237.11302| paid|Dallas-Fort Worth...|   PUT|NextSong|1537982255000|      256|Bring Me To Life|   200|1538492662000|Mozilla/5.0 (Wind...|   100|         0|    0|\n",
            "+-----------+---------+---------+------+-------------+--------+---------+-----+--------------------+------+--------+-------------+---------+----------------+------+-------------+--------------------+------+----------+-----+\n",
            "only showing top 1 row\n",
            "\n"
          ]
        }
      ],
      "source": [
        "mini_df_count = 278154\n",
        "# Keep the number of records from the mini dataframe as a point of reference. If we use only the mini dataframe, then all the records will be used.\n",
        "sampling_fraction = 278154 / labeled_df.count()\n",
        "print(f\"Sampling fraction for EDA: {sampling_fraction * 100:.2f}%\")\n",
        "eda_df = labeled_df.sample(withReplacement=False, fraction=sampling_fraction, seed=42)\n",
        "eda_df.show(n=1)"
      ]
    },
    {
      "cell_type": "markdown",
      "metadata": {
        "id": "5T79NzIaaUU6"
      },
      "source": [
        "#### Users Churn Distribution"
      ]
    },
    {
      "cell_type": "code",
      "execution_count": 30,
      "metadata": {
        "id": "GOpmPwnaaUU6",
        "outputId": "6b769248-51f3-4ef4-8c10-8068e3a14b4e",
        "colab": {
          "base_uri": "https://localhost:8080/",
          "height": 491
        }
      },
      "outputs": [
        {
          "output_type": "display_data",
          "data": {
            "text/plain": [
              "<Figure size 1000x600 with 1 Axes>"
            ],
            "image/png": "[encoded data removed]"
          },
          "metadata": {}
        }
      ],
      "source": [
        "user_churn_distribution = eda_df.select([\"userId\", \"churn\"]).distinct().groupby(\"churn\").count().toPandas()\n",
        "fig, ax = plt.subplots(1, 1, figsize=(10, 6))\n",
        "sns.barplot(data=user_churn_distribution, x=\"churn\", y=\"count\", errorbar=(\"pi\", 50), capsize=.4, errcolor=\".5\", linewidth=3, edgecolor=\".5\", ax=ax)\n",
        "ax.set_title(\"User Churn Distribution\", fontsize=20)\n",
        "ax.set_xlabel(\"0 = No-churn users; 1 = Churn users\", fontsize=14)\n",
        "ax.set_ylabel(\"Number of users\", fontsize=14)\n",
        "fig.savefig(\"images/user_churn_distribution.jpg\");"
      ]
    },
    {
      "cell_type": "markdown",
      "metadata": {
        "id": "0IKtT6kQaUU6"
      },
      "source": [
        "The distribution is highly skewed towards the `no-churn` users. That is why we will use the `F1` score to find the best model in the cross validation step."
      ]
    },
    {
      "cell_type": "markdown",
      "metadata": {
        "id": "HEN6JK8eaUU7"
      },
      "source": [
        "#### Possible Pages"
      ]
    },
    {
      "cell_type": "code",
      "execution_count": 31,
      "metadata": {
        "id": "cB4RQkFPaUU7",
        "outputId": "195fa8ac-0d66-483d-8d0b-d80d84872cc1",
        "colab": {
          "base_uri": "https://localhost:8080/"
        }
      },
      "outputs": [
        {
          "output_type": "stream",
          "name": "stdout",
          "text": [
            "+--------------------+\n",
            "|                page|\n",
            "+--------------------+\n",
            "|              Cancel|\n",
            "|    Submit Downgrade|\n",
            "|         Thumbs Down|\n",
            "|                Home|\n",
            "|           Downgrade|\n",
            "|         Roll Advert|\n",
            "|              Logout|\n",
            "|       Save Settings|\n",
            "|Cancellation Conf...|\n",
            "|               About|\n",
            "|            Settings|\n",
            "|     Add to Playlist|\n",
            "|          Add Friend|\n",
            "|            NextSong|\n",
            "|           Thumbs Up|\n",
            "|                Help|\n",
            "|             Upgrade|\n",
            "|               Error|\n",
            "|      Submit Upgrade|\n",
            "+--------------------+\n",
            "\n"
          ]
        }
      ],
      "source": [
        "eda_df.select(\"page\").distinct().show()"
      ]
    },
    {
      "cell_type": "code",
      "execution_count": 32,
      "metadata": {
        "id": "9hgzX0rQaUU7",
        "outputId": "07675180-038c-437b-eccf-e973a7157583",
        "colab": {
          "base_uri": "https://localhost:8080/"
        }
      },
      "outputs": [
        {
          "output_type": "stream",
          "name": "stdout",
          "text": [
            "+--------+\n",
            "|    page|\n",
            "+--------+\n",
            "|NextSong|\n",
            "+--------+\n",
            "\n"
          ]
        }
      ],
      "source": [
        "eda_df.filter(F.col(\"artist\") != \"unknown\").select(\"page\").distinct().show()"
      ]
    },
    {
      "cell_type": "markdown",
      "metadata": {
        "id": "-nzYS_ACaUU7"
      },
      "source": [
        "The only page where music is played is called `NextSong`."
      ]
    },
    {
      "cell_type": "markdown",
      "metadata": {
        "id": "2qcirOf0aUU7"
      },
      "source": [
        "#### Gender Distribution"
      ]
    },
    {
      "cell_type": "code",
      "execution_count": 33,
      "metadata": {
        "id": "BHke3UXtaUU7",
        "outputId": "ac6eac21-3b91-4611-efef-416ab6bf03ba",
        "colab": {
          "base_uri": "https://localhost:8080/",
          "height": 496
        }
      },
      "outputs": [
        {
          "output_type": "display_data",
          "data": {
            "text/plain": [
              "<Figure size 1000x600 with 1 Axes>"
            ],
            "image/png": "[encoded data removed]"
          },
          "metadata": {}
        }
      ],
      "source": [
        "gender_distribution = eda_df.select([\"churn\", \"userId\", \"gender\"]).distinct().groupby([\"churn\", \"gender\"]).count().toPandas()\n",
        "fig, ax = plt.subplots(1, 1, figsize=(10, 6))\n",
        "sns.barplot(data=gender_distribution, x=\"churn\", y=\"count\", hue=\"gender\", errorbar=(\"pi\", 50), capsize=.4, errcolor=\".5\", linewidth=3, edgecolor=\".5\", ax=ax)\n",
        "ax.set_title(\"Gender Distribution\", fontsize=20)\n",
        "ax.set_xlabel(\"0 = No-churn users; 1 = Churn users\", fontsize=14)\n",
        "ax.set_ylabel(\"Users\", fontsize=14)\n",
        "fig.savefig(\"images/gender_distribution.jpg\");"
      ]
    },
    {
      "cell_type": "markdown",
      "metadata": {
        "id": "WN7jOJfvaUU7"
      },
      "source": [
        "Visually it seems that more males are in the churn group than females. But, we won't use this as a feature because the difference is not that big (to be 100%, we should statistically check the difference between the two distributions), and we don't want to bias the model towards gender."
      ]
    },
    {
      "cell_type": "markdown",
      "source": [
        "#### Time Delta Since Registration"
      ],
      "metadata": {
        "collapsed": false,
        "id": "2O6sSewraUU7"
      }
    },
    {
      "cell_type": "code",
      "execution_count": 34,
      "outputs": [
        {
          "output_type": "execute_result",
          "data": {
            "text/plain": [
              "     churn  userId  timeSinceRegistration\n",
              "0        0      10             4472293000\n",
              "1        0     100             5605094000\n",
              "2        1  100001             3870739000\n",
              "3        0  100002            13864787000\n",
              "4        1  100003             1965437000\n",
              "..     ...     ...                    ...\n",
              "220      0  300016             8711721000\n",
              "221      0      37             8170806000\n",
              "222      0      66            10854079000\n",
              "223      0      67            12000340000\n",
              "224      0      86            11672575000\n",
              "\n",
              "[225 rows x 3 columns]"
            ],
            "text/html": [
              "\n",
              "  <div id=\"df-c702516c-e35c-40f5-b758-db2e396bab6d\" class=\"colab-df-container\">\n",
              "    <div>\n",
              "<style scoped>\n",
              "    .dataframe tbody tr th:only-of-type {\n",
              "        vertical-align: middle;\n",
              "    }\n",
              "\n",
              "    .dataframe tbody tr th {\n",
              "        vertical-align: top;\n",
              "    }\n",
              "\n",
              "    .dataframe thead th {\n",
              "        text-align: right;\n",
              "    }\n",
              "</style>\n",
              "<table border=\"1\" class=\"dataframe\">\n",
              "  <thead>\n",
              "    <tr style=\"text-align: right;\">\n",
              "      <th></th>\n",
              "      <th>churn</th>\n",
              "      <th>userId</th>\n",
              "      <th>timeSinceRegistration</th>\n",
              "    </tr>\n",
              "  </thead>\n",
              "  <tbody>\n",
              "    <tr>\n",
              "      <th>0</th>\n",
              "      <td>0</td>\n",
              "      <td>10</td>\n",
              "      <td>4472293000</td>\n",
              "    </tr>\n",
              "    <tr>\n",
              "      <th>1</th>\n",
              "      <td>0</td>\n",
              "      <td>100</td>\n",
              "      <td>5605094000</td>\n",
              "    </tr>\n",
              "    <tr>\n",
              "      <th>2</th>\n",
              "      <td>1</td>\n",
              "      <td>100001</td>\n",
              "      <td>3870739000</td>\n",
              "    </tr>\n",
              "    <tr>\n",
              "      <th>3</th>\n",
              "      <td>0</td>\n",
              "      <td>100002</td>\n",
              "      <td>13864787000</td>\n",
              "    </tr>\n",
              "    <tr>\n",
              "      <th>4</th>\n",
              "      <td>1</td>\n",
              "      <td>100003</td>\n",
              "      <td>1965437000</td>\n",
              "    </tr>\n",
              "    <tr>\n",
              "      <th>...</th>\n",
              "      <td>...</td>\n",
              "      <td>...</td>\n",
              "      <td>...</td>\n",
              "    </tr>\n",
              "    <tr>\n",
              "      <th>220</th>\n",
              "      <td>0</td>\n",
              "      <td>300016</td>\n",
              "      <td>8711721000</td>\n",
              "    </tr>\n",
              "    <tr>\n",
              "      <th>221</th>\n",
              "      <td>0</td>\n",
              "      <td>37</td>\n",
              "      <td>8170806000</td>\n",
              "    </tr>\n",
              "    <tr>\n",
              "      <th>222</th>\n",
              "      <td>0</td>\n",
              "      <td>66</td>\n",
              "      <td>10854079000</td>\n",
              "    </tr>\n",
              "    <tr>\n",
              "      <th>223</th>\n",
              "      <td>0</td>\n",
              "      <td>67</td>\n",
              "      <td>12000340000</td>\n",
              "    </tr>\n",
              "    <tr>\n",
              "      <th>224</th>\n",
              "      <td>0</td>\n",
              "      <td>86</td>\n",
              "      <td>11672575000</td>\n",
              "    </tr>\n",
              "  </tbody>\n",
              "</table>\n",
              "<p>225 rows × 3 columns</p>\n",
              "</div>\n",
              "    <div class=\"colab-df-buttons\">\n",
              "\n",
              "  <div class=\"colab-df-container\">\n",
              "    <button class=\"colab-df-convert\" onclick=\"convertToInteractive('df-c702516c-e35c-40f5-b758-db2e396bab6d')\"\n",
              "            title=\"Convert this dataframe to an interactive table.\"\n",
              "            style=\"display:none;\">\n",
              "\n",
              "  <svg xmlns=\"http://www.w3.org/2000/svg\" height=\"24px\" viewBox=\"0 -960 960 960\">\n",
              "    <path d=\"M120-120v-720h720v720H120Zm60-500h600v-160H180v160Zm220 220h160v-160H400v160Zm0 220h160v-160H400v160ZM180-400h160v-160H180v160Zm440 0h160v-160H620v160ZM180-180h160v-160H180v160Zm440 0h160v-160H620v160Z\"/>\n",
              "  </svg>\n",
              "    </button>\n",
              "\n",
              "  <style>\n",
              "    .colab-df-container {\n",
              "      display:flex;\n",
              "      gap: 12px;\n",
              "    }\n",
              "\n",
              "    .colab-df-convert {\n",
              "      background-color: #E8F0FE;\n",
              "      border: none;\n",
              "      border-radius: 50%;\n",
              "      cursor: pointer;\n",
              "      display: none;\n",
              "      fill: #1967D2;\n",
              "      height: 32px;\n",
              "      padding: 0 0 0 0;\n",
              "      width: 32px;\n",
              "    }\n",
              "\n",
              "    .colab-df-convert:hover {\n",
              "      background-color: #E2EBFA;\n",
              "      box-shadow: 0px 1px 2px rgba(60, 64, 67, 0.3), 0px 1px 3px 1px rgba(60, 64, 67, 0.15);\n",
              "      fill: #174EA6;\n",
              "    }\n",
              "\n",
              "    .colab-df-buttons div {\n",
              "      margin-bottom: 4px;\n",
              "    }\n",
              "\n",
              "    [theme=dark] .colab-df-convert {\n",
              "      background-color: #3B4455;\n",
              "      fill: #D2E3FC;\n",
              "    }\n",
              "\n",
              "    [theme=dark] .colab-df-convert:hover {\n",
              "      background-color: #434B5C;\n",
              "      box-shadow: 0px 1px 3px 1px rgba(0, 0, 0, 0.15);\n",
              "      filter: drop-shadow(0px 1px 2px rgba(0, 0, 0, 0.3));\n",
              "      fill: #FFFFFF;\n",
              "    }\n",
              "  </style>\n",
              "\n",
              "    <script>\n",
              "      const buttonEl =\n",
              "        document.querySelector('#df-c702516c-e35c-40f5-b758-db2e396bab6d button.colab-df-convert');\n",
              "      buttonEl.style.display =\n",
              "        google.colab.kernel.accessAllowed ? 'block' : 'none';\n",
              "\n",
              "      async function convertToInteractive(key) {\n",
              "        const element = document.querySelector('#df-c702516c-e35c-40f5-b758-db2e396bab6d');\n",
              "        const dataTable =\n",
              "          await google.colab.kernel.invokeFunction('convertToInteractive',\n",
              "                                                    [key], {});\n",
              "        if (!dataTable) return;\n",
              "\n",
              "        const docLinkHtml = 'Like what you see? Visit the ' +\n",
              "          '<a target=\"_blank\" href=https://colab.research.google.com/notebooks/data_table.ipynb>data table notebook</a>'\n",
              "          + ' to learn more about interactive tables.';\n",
              "        element.innerHTML = '';\n",
              "        dataTable['output_type'] = 'display_data';\n",
              "        await google.colab.output.renderOutput(dataTable, element);\n",
              "        const docLink = document.createElement('div');\n",
              "        docLink.innerHTML = docLinkHtml;\n",
              "        element.appendChild(docLink);\n",
              "      }\n",
              "    </script>\n",
              "  </div>\n",
              "\n",
              "\n",
              "<div id=\"df-ca0548a5-0d81-4da1-8109-6121b064c7f6\">\n",
              "  <button class=\"colab-df-quickchart\" onclick=\"quickchart('df-ca0548a5-0d81-4da1-8109-6121b064c7f6')\"\n",
              "            title=\"Suggest charts\"\n",
              "            style=\"display:none;\">\n",
              "\n",
              "<svg xmlns=\"http://www.w3.org/2000/svg\" height=\"24px\"viewBox=\"0 0 24 24\"\n",
              "     width=\"24px\">\n",
              "    <g>\n",
              "        <path d=\"M19 3H5c-1.1 0-2 .9-2 2v14c0 1.1.9 2 2 2h14c1.1 0 2-.9 2-2V5c0-1.1-.9-2-2-2zM9 17H7v-7h2v7zm4 0h-2V7h2v10zm4 0h-2v-4h2v4z\"/>\n",
              "    </g>\n",
              "</svg>\n",
              "  </button>\n",
              "\n",
              "<style>\n",
              "  .colab-df-quickchart {\n",
              "      --bg-color: #E8F0FE;\n",
              "      --fill-color: #1967D2;\n",
              "      --hover-bg-color: #E2EBFA;\n",
              "      --hover-fill-color: #174EA6;\n",
              "      --disabled-fill-color: #AAA;\n",
              "      --disabled-bg-color: #DDD;\n",
              "  }\n",
              "\n",
              "  [theme=dark] .colab-df-quickchart {\n",
              "      --bg-color: #3B4455;\n",
              "      --fill-color: #D2E3FC;\n",
              "      --hover-bg-color: #434B5C;\n",
              "      --hover-fill-color: #FFFFFF;\n",
              "      --disabled-bg-color: #3B4455;\n",
              "      --disabled-fill-color: #666;\n",
              "  }\n",
              "\n",
              "  .colab-df-quickchart {\n",
              "    background-color: var(--bg-color);\n",
              "    border: none;\n",
              "    border-radius: 50%;\n",
              "    cursor: pointer;\n",
              "    display: none;\n",
              "    fill: var(--fill-color);\n",
              "    height: 32px;\n",
              "    padding: 0;\n",
              "    width: 32px;\n",
              "  }\n",
              "\n",
              "  .colab-df-quickchart:hover {\n",
              "    background-color: var(--hover-bg-color);\n",
              "    box-shadow: 0 1px 2px rgba(60, 64, 67, 0.3), 0 1px 3px 1px rgba(60, 64, 67, 0.15);\n",
              "    fill: var(--button-hover-fill-color);\n",
              "  }\n",
              "\n",
              "  .colab-df-quickchart-complete:disabled,\n",
              "  .colab-df-quickchart-complete:disabled:hover {\n",
              "    background-color: var(--disabled-bg-color);\n",
              "    fill: var(--disabled-fill-color);\n",
              "    box-shadow: none;\n",
              "  }\n",
              "\n",
              "  .colab-df-spinner {\n",
              "    border: 2px solid var(--fill-color);\n",
              "    border-color: transparent;\n",
              "    border-bottom-color: var(--fill-color);\n",
              "    animation:\n",
              "      spin 1s steps(1) infinite;\n",
              "  }\n",
              "\n",
              "  @keyframes spin {\n",
              "    0% {\n",
              "      border-color: transparent;\n",
              "      border-bottom-color: var(--fill-color);\n",
              "      border-left-color: var(--fill-color);\n",
              "    }\n",
              "    20% {\n",
              "      border-color: transparent;\n",
              "      border-left-color: var(--fill-color);\n",
              "      border-top-color: var(--fill-color);\n",
              "    }\n",
              "    30% {\n",
              "      border-color: transparent;\n",
              "      border-left-color: var(--fill-color);\n",
              "      border-top-color: var(--fill-color);\n",
              "      border-right-color: var(--fill-color);\n",
              "    }\n",
              "    40% {\n",
              "      border-color: transparent;\n",
              "      border-right-color: var(--fill-color);\n",
              "      border-top-color: var(--fill-color);\n",
              "    }\n",
              "    60% {\n",
              "      border-color: transparent;\n",
              "      border-right-color: var(--fill-color);\n",
              "    }\n",
              "    80% {\n",
              "      border-color: transparent;\n",
              "      border-right-color: var(--fill-color);\n",
              "      border-bottom-color: var(--fill-color);\n",
              "    }\n",
              "    90% {\n",
              "      border-color: transparent;\n",
              "      border-bottom-color: var(--fill-color);\n",
              "    }\n",
              "  }\n",
              "</style>\n",
              "\n",
              "  <script>\n",
              "    async function quickchart(key) {\n",
              "      const quickchartButtonEl =\n",
              "        document.querySelector('#' + key + ' button');\n",
              "      quickchartButtonEl.disabled = true;  // To prevent multiple clicks.\n",
              "      quickchartButtonEl.classList.add('colab-df-spinner');\n",
              "      try {\n",
              "        const charts = await google.colab.kernel.invokeFunction(\n",
              "            'suggestCharts', [key], {});\n",
              "      } catch (error) {\n",
              "        console.error('Error during call to suggestCharts:', error);\n",
              "      }\n",
              "      quickchartButtonEl.classList.remove('colab-df-spinner');\n",
              "      quickchartButtonEl.classList.add('colab-df-quickchart-complete');\n",
              "    }\n",
              "    (() => {\n",
              "      let quickchartButtonEl =\n",
              "        document.querySelector('#df-ca0548a5-0d81-4da1-8109-6121b064c7f6 button');\n",
              "      quickchartButtonEl.style.display =\n",
              "        google.colab.kernel.accessAllowed ? 'block' : 'none';\n",
              "    })();\n",
              "  </script>\n",
              "</div>\n",
              "\n",
              "  <div id=\"id_0ca69431-f596-4a13-9c7f-b53faf459ac3\">\n",
              "    <style>\n",
              "      .colab-df-generate {\n",
              "        background-color: #E8F0FE;\n",
              "        border: none;\n",
              "        border-radius: 50%;\n",
              "        cursor: pointer;\n",
              "        display: none;\n",
              "        fill: #1967D2;\n",
              "        height: 32px;\n",
              "        padding: 0 0 0 0;\n",
              "        width: 32px;\n",
              "      }\n",
              "\n",
              "      .colab-df-generate:hover {\n",
              "        background-color: #E2EBFA;\n",
              "        box-shadow: 0px 1px 2px rgba(60, 64, 67, 0.3), 0px 1px 3px 1px rgba(60, 64, 67, 0.15);\n",
              "        fill: #174EA6;\n",
              "      }\n",
              "\n",
              "      [theme=dark] .colab-df-generate {\n",
              "        background-color: #3B4455;\n",
              "        fill: #D2E3FC;\n",
              "      }\n",
              "\n",
              "      [theme=dark] .colab-df-generate:hover {\n",
              "        background-color: #434B5C;\n",
              "        box-shadow: 0px 1px 3px 1px rgba(0, 0, 0, 0.15);\n",
              "        filter: drop-shadow(0px 1px 2px rgba(0, 0, 0, 0.3));\n",
              "        fill: #FFFFFF;\n",
              "      }\n",
              "    </style>\n",
              "    <button class=\"colab-df-generate\" onclick=\"generateWithVariable('registration_delta_distribution')\"\n",
              "            title=\"Generate code using this dataframe.\"\n",
              "            style=\"display:none;\">\n",
              "\n",
              "  <svg xmlns=\"http://www.w3.org/2000/svg\" height=\"24px\"viewBox=\"0 0 24 24\"\n",
              "       width=\"24px\">\n",
              "    <path d=\"M7,19H8.4L18.45,9,17,7.55,7,17.6ZM5,21V16.75L18.45,3.32a2,2,0,0,1,2.83,0l1.4,1.43a1.91,1.91,0,0,1,.58,1.4,1.91,1.91,0,0,1-.58,1.4L9.25,21ZM18.45,9,17,7.55Zm-12,3A5.31,5.31,0,0,0,4.9,8.1,5.31,5.31,0,0,0,1,6.5,5.31,5.31,0,0,0,4.9,4.9,5.31,5.31,0,0,0,6.5,1,5.31,5.31,0,0,0,8.1,4.9,5.31,5.31,0,0,0,12,6.5,5.46,5.46,0,0,0,6.5,12Z\"/>\n",
              "  </svg>\n",
              "    </button>\n",
              "    <script>\n",
              "      (() => {\n",
              "      const buttonEl =\n",
              "        document.querySelector('#id_0ca69431-f596-4a13-9c7f-b53faf459ac3 button.colab-df-generate');\n",
              "      buttonEl.style.display =\n",
              "        google.colab.kernel.accessAllowed ? 'block' : 'none';\n",
              "\n",
              "      buttonEl.onclick = () => {\n",
              "        google.colab.notebook.generateWithVariable('registration_delta_distribution');\n",
              "      }\n",
              "      })();\n",
              "    </script>\n",
              "  </div>\n",
              "\n",
              "    </div>\n",
              "  </div>\n"
            ]
          },
          "metadata": {},
          "execution_count": 34
        }
      ],
      "source": [
        "registration_delta_distribution = eda_df.alias(\"registration_delta_distribution\")\n",
        "registration_delta_distribution = registration_delta_distribution.withColumn(\"timeSinceRegistration\", F.col(\"ts\") - F.col(\"registration\"))\n",
        "registration_delta_distribution = registration_delta_distribution \\\n",
        "    .select([\"churn\", \"userId\", \"timeSinceRegistration\"]) \\\n",
        "    .groupby([\"churn\", \"userId\"]) \\\n",
        "    .agg(F.max(F.col(\"timeSinceRegistration\")).alias(\"timeSinceRegistration\")) \\\n",
        "    .toPandas()\n",
        "registration_delta_distribution"
      ],
      "metadata": {
        "id": "2w30fFsYaUU8",
        "outputId": "3922fec9-db51-47ca-d6e3-daddbee41207",
        "colab": {
          "base_uri": "https://localhost:8080/",
          "height": 424
        }
      }
    },
    {
      "cell_type": "code",
      "execution_count": 35,
      "outputs": [
        {
          "output_type": "display_data",
          "data": {
            "text/plain": [
              "<Figure size 1000x600 with 1 Axes>"
            ],
            "image/png": "[encoded data removed]"
          },
          "metadata": {}
        }
      ],
      "source": [
        "fig, ax = plt.subplots(1, 1, figsize=(10, 6))\n",
        "sns.histplot(\n",
        "    data=registration_delta_distribution,\n",
        "    x=\"timeSinceRegistration\",\n",
        "    hue=\"churn\",\n",
        "    multiple=\"stack\",\n",
        "    linewidth=3,\n",
        "    edgecolor=\".5\",\n",
        "    element=\"step\",\n",
        "    ax=ax,\n",
        ")\n",
        "ax.set_title(\"Time Delta Since Registration Distribution\", fontsize=20)\n",
        "ax.set_xlabel(\"Time Delta since registration (in seconds)\\n0 = No-churn users; 1 = Churn users\", fontsize=14)\n",
        "ax.set_ylabel(\"Users\", fontsize=14)\n",
        "fig.savefig(\"images/registration_delta_distribution.jpg\");"
      ],
      "metadata": {
        "id": "9cnMyIlYaUU8",
        "outputId": "604c2df7-8378-40b1-9445-84f063ba2e6b",
        "colab": {
          "base_uri": "https://localhost:8080/",
          "height": 515
        }
      }
    },
    {
      "cell_type": "markdown",
      "source": [
        "It looks like the timedelta since registration, for churn users, is right skewed. While the no-churn one is pretty normal. The mean of the timedelta is a good predictor."
      ],
      "metadata": {
        "collapsed": false,
        "id": "0LT654gEaUU8"
      }
    },
    {
      "cell_type": "markdown",
      "source": [
        "#### Event Status Distribution"
      ],
      "metadata": {
        "collapsed": false,
        "id": "UgFUdfobaUU8"
      }
    },
    {
      "cell_type": "code",
      "execution_count": 36,
      "outputs": [
        {
          "output_type": "display_data",
          "data": {
            "text/plain": [
              "<Figure size 1000x600 with 1 Axes>"
            ],
            "image/png": "[encoded data removed]"
          },
          "metadata": {}
        }
      ],
      "source": [
        "event_status_distribution = eda_df.select([\"churn\", \"userId\", \"status\"]).distinct().groupby([\"churn\", \"status\"]).count().toPandas()\n",
        "fig, ax = plt.subplots(1, 1, figsize=(10, 6))\n",
        "sns.barplot(data=event_status_distribution, x=\"churn\", y=\"count\", hue=\"status\", errorbar=(\"pi\", 50), capsize=.4, errcolor=\".5\", linewidth=3, edgecolor=\".5\", ax=ax)\n",
        "ax.set_title(\"Event Status Distribution\", fontsize=20)\n",
        "ax.set_xlabel(\"0 = No-churn users; 1 = Churn users\", fontsize=14)\n",
        "ax.set_ylabel(\"HTTP Status\", fontsize=14)\n",
        "fig.savefig(\"images/event_status_distribution.jpg\");"
      ],
      "metadata": {
        "id": "BGQHRqVXaUU8",
        "outputId": "431f0e91-ad65-4ad0-a278-8a4af25be191",
        "colab": {
          "base_uri": "https://localhost:8080/",
          "height": 491
        }
      }
    },
    {
      "cell_type": "markdown",
      "source": [
        "The only status type that could mess with the user experience is `404`. But as we can see, it is evenly distributed between the `churn` and `no-churn` groups.\n",
        "\n",
        "*NOTE:* A more robust verification can be performed with a proportion statistical test."
      ],
      "metadata": {
        "collapsed": false,
        "id": "VxtWcoQFaUU8"
      }
    },
    {
      "cell_type": "markdown",
      "metadata": {
        "id": "fLmCuSNAaUU9"
      },
      "source": [
        "#### Distribution of the Average Number of Visited Pages by Every User"
      ]
    },
    {
      "cell_type": "code",
      "execution_count": 37,
      "metadata": {
        "id": "egBtQcHwaUU9",
        "outputId": "b673e01e-7138-4586-ed74-e64653972370",
        "colab": {
          "base_uri": "https://localhost:8080/",
          "height": 486
        }
      },
      "outputs": [
        {
          "output_type": "display_data",
          "data": {
            "text/plain": [
              "<Figure size 1000x600 with 1 Axes>"
            ],
            "image/png": "[encoded data removed]"
          },
          "metadata": {}
        }
      ],
      "source": [
        "visited_pages_distribution = eda_df.groupby([\"churn\", \"userId\"]).count().groupby(\"churn\").agg(F.avg(\"count\").alias(\"Average Visited Pages\")).toPandas()\n",
        "fig, ax = plt.subplots(1, 1, figsize=(10, 6))\n",
        "sns.barplot(data=visited_pages_distribution, x=\"churn\", y=\"Average Visited Pages\", errorbar=(\"pi\", 50), capsize=.4, errcolor=\".5\", linewidth=3, edgecolor=\".5\", ax=ax)\n",
        "ax.set_title(\"Average Visited Pages\", fontsize=20)\n",
        "ax.set_xlabel(\"0 = No-churn users; 1 = Churn users\", fontsize=14)\n",
        "ax.set_ylabel(\"Number of visited pages\", fontsize=14)\n",
        "fig.savefig(\"images/visited_pages_distribution.jpg\");"
      ]
    },
    {
      "cell_type": "markdown",
      "metadata": {
        "id": "NOQlNdG0aUU9"
      },
      "source": [
        "Users that remained on the platform, on average, visited more pages."
      ]
    },
    {
      "cell_type": "markdown",
      "metadata": {
        "id": "GT9zNBVpaUU9"
      },
      "source": [
        "#### Distribution of the Average Number of Songs Listened by Every User"
      ]
    },
    {
      "cell_type": "code",
      "execution_count": 38,
      "metadata": {
        "id": "FfbMGm82aUU9",
        "outputId": "6d39e369-2c5a-49d3-fdd8-c889eebedb25",
        "colab": {
          "base_uri": "https://localhost:8080/",
          "height": 486
        }
      },
      "outputs": [
        {
          "output_type": "display_data",
          "data": {
            "text/plain": [
              "<Figure size 1000x600 with 1 Axes>"
            ],
            "image/png": "[encoded data removed]"
          },
          "metadata": {}
        }
      ],
      "source": [
        "listened_songs_distribution = eda_df.where(F.col(\"artist\") != \"unknown\").groupby([\"churn\", \"userId\"]).count().groupby(\"churn\").agg(F.avg(\"count\").alias(\"Average Songs Played\")).toPandas()\n",
        "fig, ax = plt.subplots(1, 1, figsize=(10, 6))\n",
        "sns.barplot(data=listened_songs_distribution, x=\"churn\", y=\"Average Songs Played\", errorbar=(\"pi\", 50), capsize=.4, errcolor=\".5\", linewidth=3, edgecolor=\".5\", ax=ax)\n",
        "ax.set_title(\"Average Songs Played\", fontsize=20)\n",
        "ax.set_xlabel(\"0 = No-churn users; 1 = Churn users\", fontsize=14)\n",
        "ax.set_ylabel(\"Number of songs Played\", fontsize=14)\n",
        "fig.savefig(\"images/listened_songs_distribution.jpg\");"
      ]
    },
    {
      "cell_type": "markdown",
      "metadata": {
        "id": "1jFq5Uo8aUU9"
      },
      "source": [
        "Users that remained on the platform, on average, are listening to more songs."
      ]
    },
    {
      "cell_type": "markdown",
      "metadata": {
        "id": "Zb6zDG2UaUU-"
      },
      "source": [
        "#### Distribution of the Average Number of Artists Listened by Every User"
      ]
    },
    {
      "cell_type": "code",
      "execution_count": 39,
      "metadata": {
        "id": "S93BlJ5laUU-",
        "outputId": "d9517c04-e9c3-4aa2-afd5-d1b45b34c0bd",
        "colab": {
          "base_uri": "https://localhost:8080/",
          "height": 491
        }
      },
      "outputs": [
        {
          "output_type": "display_data",
          "data": {
            "text/plain": [
              "<Figure size 1000x600 with 1 Axes>"
            ],
            "image/png": "[encoded data removed]"
          },
          "metadata": {}
        }
      ],
      "source": [
        "listened_artists_distribution = eda_df \\\n",
        "    .select([\"artist\", \"userId\", \"churn\"]) \\\n",
        "    .where(F.col(\"artist\") != \"unknown\") \\\n",
        "    .distinct() \\\n",
        "    .groupby([\"churn\", \"userId\"]) \\\n",
        "    .count() \\\n",
        "    .groupby(\"churn\") \\\n",
        "    .agg(F.avg(\"count\").alias(\"Average Listened Artists\")) \\\n",
        "    .toPandas()\n",
        "fig, ax = plt.subplots(1, 1, figsize=(10, 6))\n",
        "sns.barplot(data=listened_artists_distribution, x=\"churn\", y=\"Average Listened Artists\", errorbar=(\"pi\", 50), capsize=.4, errcolor=\".5\", linewidth=3, edgecolor=\".5\", ax=ax)\n",
        "ax.set_title(\"Average Listened Artists\", fontsize=20)\n",
        "ax.set_xlabel(\"0 = No-churn users; 1 = Churn users\", fontsize=14)\n",
        "ax.set_ylabel(\"Number of listened artists\", fontsize=14)\n",
        "fig.savefig(\"images/listened_artists_distribution.jpg\");"
      ]
    },
    {
      "cell_type": "markdown",
      "source": [
        "On average, users that remain on the platform are listening to a wider variety of artists."
      ],
      "metadata": {
        "collapsed": false,
        "id": "rQqiHiWgaUU-"
      }
    },
    {
      "cell_type": "markdown",
      "metadata": {
        "id": "EqLY6e_kaUU-"
      },
      "source": [
        "#### Average Seconds of Listened Music"
      ]
    },
    {
      "cell_type": "code",
      "execution_count": 40,
      "metadata": {
        "id": "PMkSwLOkaUU-",
        "outputId": "ace69119-7a8d-4701-be79-6b21caabbda1",
        "colab": {
          "base_uri": "https://localhost:8080/",
          "height": 491
        }
      },
      "outputs": [
        {
          "output_type": "display_data",
          "data": {
            "text/plain": [
              "<Figure size 1000x600 with 1 Axes>"
            ],
            "image/png": "[encoded data removed]"
          },
          "metadata": {}
        }
      ],
      "source": [
        "average_listened_seconds_distribution = eda_df \\\n",
        "    .select([\"artist\", \"userId\", \"churn\", \"length\"]) \\\n",
        "    .where(F.col(\"artist\") != \"unknown\") \\\n",
        "    .groupby([\"churn\", \"userId\"]) \\\n",
        "    .agg(F.avg(F.col(\"length\")).alias(\"averageLength\")) \\\n",
        "    .groupby(\"churn\") \\\n",
        "    .agg(F.avg(F.col(\"averageLength\")).alias(\"Average Seconds of Listened Music\")) \\\n",
        "    .toPandas()\n",
        "fig, ax = plt.subplots(1, 1, figsize=(10, 6))\n",
        "sns.barplot(data=average_listened_seconds_distribution, x=\"churn\", y=\"Average Seconds of Listened Music\", errorbar=(\"pi\", 50), capsize=.4, errcolor=\".5\", linewidth=3, edgecolor=\".5\", ax=ax)\n",
        "ax.set_title(\"Average Seconds of Listened Music\", fontsize=20)\n",
        "ax.set_xlabel(\"0 = No-churn users; 1 = Churn users\", fontsize=14)\n",
        "ax.set_ylabel(\"Listened seconds of music\", fontsize=14)\n",
        "fig.savefig(\"images/average_listened_seconds_distribution.jpg\");"
      ]
    },
    {
      "cell_type": "markdown",
      "metadata": {
        "id": "KA0_mJKlaUU-"
      },
      "source": [
        "The average seconds of listened music is similar for both churn and no-churn groups. Therefore, this feature won't have much predictive power."
      ]
    },
    {
      "cell_type": "markdown",
      "source": [
        "#### Different Level of Users"
      ],
      "metadata": {
        "collapsed": false,
        "id": "PKBURJQNaUU_"
      }
    },
    {
      "cell_type": "code",
      "execution_count": 41,
      "outputs": [
        {
          "output_type": "display_data",
          "data": {
            "text/plain": [
              "<Figure size 1000x600 with 1 Axes>"
            ],
            "image/png": "[encoded data removed]"
          },
          "metadata": {}
        }
      ],
      "source": [
        "levels_distribution = eda_df \\\n",
        "    .select([\"userId\", \"level\", \"churn\"]) \\\n",
        "    .distinct() \\\n",
        "    .groupby(\"churn\", \"level\") \\\n",
        "    .agg(F.count(F.col(\"userId\")).alias(\"Levels of Users\")) \\\n",
        "    .toPandas()\n",
        "fig, ax = plt.subplots(1, 1, figsize=(10, 6))\n",
        "sns.barplot(data=levels_distribution, x=\"churn\", y=\"Levels of Users\", hue=\"level\", errorbar=(\"pi\", 50), capsize=.4, errcolor=\".5\", linewidth=3, edgecolor=\".5\", ax=ax)\n",
        "ax.set_title(\"Free vs. Paid Users\", fontsize=20)\n",
        "ax.set_xlabel(\"0 = No-churn users; 1 = Churn users\", fontsize=14)\n",
        "ax.set_ylabel(\"Number of Users\", fontsize=14)\n",
        "fig.savefig(\"images/levels_distribution.jpg\");"
      ],
      "metadata": {
        "id": "vqJtELpIaUU_",
        "outputId": "95acbb64-b115-4e49-9f54-479d1535c5a1",
        "colab": {
          "base_uri": "https://localhost:8080/",
          "height": 491
        }
      }
    },
    {
      "cell_type": "code",
      "execution_count": 42,
      "outputs": [
        {
          "output_type": "execute_result",
          "data": {
            "text/plain": [
              "   churn level  Levels of Users\n",
              "0      0  free              149\n",
              "1      0  paid              129\n",
              "2      1  paid               36\n",
              "3      1  free               46"
            ],
            "text/html": [
              "\n",
              "  <div id=\"df-8da3332b-9048-4848-86b2-01c0d667c99f\" class=\"colab-df-container\">\n",
              "    <div>\n",
              "<style scoped>\n",
              "    .dataframe tbody tr th:only-of-type {\n",
              "        vertical-align: middle;\n",
              "    }\n",
              "\n",
              "    .dataframe tbody tr th {\n",
              "        vertical-align: top;\n",
              "    }\n",
              "\n",
              "    .dataframe thead th {\n",
              "        text-align: right;\n",
              "    }\n",
              "</style>\n",
              "<table border=\"1\" class=\"dataframe\">\n",
              "  <thead>\n",
              "    <tr style=\"text-align: right;\">\n",
              "      <th></th>\n",
              "      <th>churn</th>\n",
              "      <th>level</th>\n",
              "      <th>Levels of Users</th>\n",
              "    </tr>\n",
              "  </thead>\n",
              "  <tbody>\n",
              "    <tr>\n",
              "      <th>0</th>\n",
              "      <td>0</td>\n",
              "      <td>free</td>\n",
              "      <td>149</td>\n",
              "    </tr>\n",
              "    <tr>\n",
              "      <th>1</th>\n",
              "      <td>0</td>\n",
              "      <td>paid</td>\n",
              "      <td>129</td>\n",
              "    </tr>\n",
              "    <tr>\n",
              "      <th>2</th>\n",
              "      <td>1</td>\n",
              "      <td>paid</td>\n",
              "      <td>36</td>\n",
              "    </tr>\n",
              "    <tr>\n",
              "      <th>3</th>\n",
              "      <td>1</td>\n",
              "      <td>free</td>\n",
              "      <td>46</td>\n",
              "    </tr>\n",
              "  </tbody>\n",
              "</table>\n",
              "</div>\n",
              "    <div class=\"colab-df-buttons\">\n",
              "\n",
              "  <div class=\"colab-df-container\">\n",
              "    <button class=\"colab-df-convert\" onclick=\"convertToInteractive('df-8da3332b-9048-4848-86b2-01c0d667c99f')\"\n",
              "            title=\"Convert this dataframe to an interactive table.\"\n",
              "            style=\"display:none;\">\n",
              "\n",
              "  <svg xmlns=\"http://www.w3.org/2000/svg\" height=\"24px\" viewBox=\"0 -960 960 960\">\n",
              "    <path d=\"M120-120v-720h720v720H120Zm60-500h600v-160H180v160Zm220 220h160v-160H400v160Zm0 220h160v-160H400v160ZM180-400h160v-160H180v160Zm440 0h160v-160H620v160ZM180-180h160v-160H180v160Zm440 0h160v-160H620v160Z\"/>\n",
              "  </svg>\n",
              "    </button>\n",
              "\n",
              "  <style>\n",
              "    .colab-df-container {\n",
              "      display:flex;\n",
              "      gap: 12px;\n",
              "    }\n",
              "\n",
              "    .colab-df-convert {\n",
              "      background-color: #E8F0FE;\n",
              "      border: none;\n",
              "      border-radius: 50%;\n",
              "      cursor: pointer;\n",
              "      display: none;\n",
              "      fill: #1967D2;\n",
              "      height: 32px;\n",
              "      padding: 0 0 0 0;\n",
              "      width: 32px;\n",
              "    }\n",
              "\n",
              "    .colab-df-convert:hover {\n",
              "      background-color: #E2EBFA;\n",
              "      box-shadow: 0px 1px 2px rgba(60, 64, 67, 0.3), 0px 1px 3px 1px rgba(60, 64, 67, 0.15);\n",
              "      fill: #174EA6;\n",
              "    }\n",
              "\n",
              "    .colab-df-buttons div {\n",
              "      margin-bottom: 4px;\n",
              "    }\n",
              "\n",
              "    [theme=dark] .colab-df-convert {\n",
              "      background-color: #3B4455;\n",
              "      fill: #D2E3FC;\n",
              "    }\n",
              "\n",
              "    [theme=dark] .colab-df-convert:hover {\n",
              "      background-color: #434B5C;\n",
              "      box-shadow: 0px 1px 3px 1px rgba(0, 0, 0, 0.15);\n",
              "      filter: drop-shadow(0px 1px 2px rgba(0, 0, 0, 0.3));\n",
              "      fill: #FFFFFF;\n",
              "    }\n",
              "  </style>\n",
              "\n",
              "    <script>\n",
              "      const buttonEl =\n",
              "        document.querySelector('#df-8da3332b-9048-4848-86b2-01c0d667c99f button.colab-df-convert');\n",
              "      buttonEl.style.display =\n",
              "        google.colab.kernel.accessAllowed ? 'block' : 'none';\n",
              "\n",
              "      async function convertToInteractive(key) {\n",
              "        const element = document.querySelector('#df-8da3332b-9048-4848-86b2-01c0d667c99f');\n",
              "        const dataTable =\n",
              "          await google.colab.kernel.invokeFunction('convertToInteractive',\n",
              "                                                    [key], {});\n",
              "        if (!dataTable) return;\n",
              "\n",
              "        const docLinkHtml = 'Like what you see? Visit the ' +\n",
              "          '<a target=\"_blank\" href=https://colab.research.google.com/notebooks/data_table.ipynb>data table notebook</a>'\n",
              "          + ' to learn more about interactive tables.';\n",
              "        element.innerHTML = '';\n",
              "        dataTable['output_type'] = 'display_data';\n",
              "        await google.colab.output.renderOutput(dataTable, element);\n",
              "        const docLink = document.createElement('div');\n",
              "        docLink.innerHTML = docLinkHtml;\n",
              "        element.appendChild(docLink);\n",
              "      }\n",
              "    </script>\n",
              "  </div>\n",
              "\n",
              "\n",
              "<div id=\"df-8ab22f91-a0b4-41bf-9ad0-722187cb3f03\">\n",
              "  <button class=\"colab-df-quickchart\" onclick=\"quickchart('df-8ab22f91-a0b4-41bf-9ad0-722187cb3f03')\"\n",
              "            title=\"Suggest charts\"\n",
              "            style=\"display:none;\">\n",
              "\n",
              "<svg xmlns=\"http://www.w3.org/2000/svg\" height=\"24px\"viewBox=\"0 0 24 24\"\n",
              "     width=\"24px\">\n",
              "    <g>\n",
              "        <path d=\"M19 3H5c-1.1 0-2 .9-2 2v14c0 1.1.9 2 2 2h14c1.1 0 2-.9 2-2V5c0-1.1-.9-2-2-2zM9 17H7v-7h2v7zm4 0h-2V7h2v10zm4 0h-2v-4h2v4z\"/>\n",
              "    </g>\n",
              "</svg>\n",
              "  </button>\n",
              "\n",
              "<style>\n",
              "  .colab-df-quickchart {\n",
              "      --bg-color: #E8F0FE;\n",
              "      --fill-color: #1967D2;\n",
              "      --hover-bg-color: #E2EBFA;\n",
              "      --hover-fill-color: #174EA6;\n",
              "      --disabled-fill-color: #AAA;\n",
              "      --disabled-bg-color: #DDD;\n",
              "  }\n",
              "\n",
              "  [theme=dark] .colab-df-quickchart {\n",
              "      --bg-color: #3B4455;\n",
              "      --fill-color: #D2E3FC;\n",
              "      --hover-bg-color: #434B5C;\n",
              "      --hover-fill-color: #FFFFFF;\n",
              "      --disabled-bg-color: #3B4455;\n",
              "      --disabled-fill-color: #666;\n",
              "  }\n",
              "\n",
              "  .colab-df-quickchart {\n",
              "    background-color: var(--bg-color);\n",
              "    border: none;\n",
              "    border-radius: 50%;\n",
              "    cursor: pointer;\n",
              "    display: none;\n",
              "    fill: var(--fill-color);\n",
              "    height: 32px;\n",
              "    padding: 0;\n",
              "    width: 32px;\n",
              "  }\n",
              "\n",
              "  .colab-df-quickchart:hover {\n",
              "    background-color: var(--hover-bg-color);\n",
              "    box-shadow: 0 1px 2px rgba(60, 64, 67, 0.3), 0 1px 3px 1px rgba(60, 64, 67, 0.15);\n",
              "    fill: var(--button-hover-fill-color);\n",
              "  }\n",
              "\n",
              "  .colab-df-quickchart-complete:disabled,\n",
              "  .colab-df-quickchart-complete:disabled:hover {\n",
              "    background-color: var(--disabled-bg-color);\n",
              "    fill: var(--disabled-fill-color);\n",
              "    box-shadow: none;\n",
              "  }\n",
              "\n",
              "  .colab-df-spinner {\n",
              "    border: 2px solid var(--fill-color);\n",
              "    border-color: transparent;\n",
              "    border-bottom-color: var(--fill-color);\n",
              "    animation:\n",
              "      spin 1s steps(1) infinite;\n",
              "  }\n",
              "\n",
              "  @keyframes spin {\n",
              "    0% {\n",
              "      border-color: transparent;\n",
              "      border-bottom-color: var(--fill-color);\n",
              "      border-left-color: var(--fill-color);\n",
              "    }\n",
              "    20% {\n",
              "      border-color: transparent;\n",
              "      border-left-color: var(--fill-color);\n",
              "      border-top-color: var(--fill-color);\n",
              "    }\n",
              "    30% {\n",
              "      border-color: transparent;\n",
              "      border-left-color: var(--fill-color);\n",
              "      border-top-color: var(--fill-color);\n",
              "      border-right-color: var(--fill-color);\n",
              "    }\n",
              "    40% {\n",
              "      border-color: transparent;\n",
              "      border-right-color: var(--fill-color);\n",
              "      border-top-color: var(--fill-color);\n",
              "    }\n",
              "    60% {\n",
              "      border-color: transparent;\n",
              "      border-right-color: var(--fill-color);\n",
              "    }\n",
              "    80% {\n",
              "      border-color: transparent;\n",
              "      border-right-color: var(--fill-color);\n",
              "      border-bottom-color: var(--fill-color);\n",
              "    }\n",
              "    90% {\n",
              "      border-color: transparent;\n",
              "      border-bottom-color: var(--fill-color);\n",
              "    }\n",
              "  }\n",
              "</style>\n",
              "\n",
              "  <script>\n",
              "    async function quickchart(key) {\n",
              "      const quickchartButtonEl =\n",
              "        document.querySelector('#' + key + ' button');\n",
              "      quickchartButtonEl.disabled = true;  // To prevent multiple clicks.\n",
              "      quickchartButtonEl.classList.add('colab-df-spinner');\n",
              "      try {\n",
              "        const charts = await google.colab.kernel.invokeFunction(\n",
              "            'suggestCharts', [key], {});\n",
              "      } catch (error) {\n",
              "        console.error('Error during call to suggestCharts:', error);\n",
              "      }\n",
              "      quickchartButtonEl.classList.remove('colab-df-spinner');\n",
              "      quickchartButtonEl.classList.add('colab-df-quickchart-complete');\n",
              "    }\n",
              "    (() => {\n",
              "      let quickchartButtonEl =\n",
              "        document.querySelector('#df-8ab22f91-a0b4-41bf-9ad0-722187cb3f03 button');\n",
              "      quickchartButtonEl.style.display =\n",
              "        google.colab.kernel.accessAllowed ? 'block' : 'none';\n",
              "    })();\n",
              "  </script>\n",
              "</div>\n",
              "\n",
              "  <div id=\"id_c604fcbc-6b1e-446a-933c-c355867ca8c2\">\n",
              "    <style>\n",
              "      .colab-df-generate {\n",
              "        background-color: #E8F0FE;\n",
              "        border: none;\n",
              "        border-radius: 50%;\n",
              "        cursor: pointer;\n",
              "        display: none;\n",
              "        fill: #1967D2;\n",
              "        height: 32px;\n",
              "        padding: 0 0 0 0;\n",
              "        width: 32px;\n",
              "      }\n",
              "\n",
              "      .colab-df-generate:hover {\n",
              "        background-color: #E2EBFA;\n",
              "        box-shadow: 0px 1px 2px rgba(60, 64, 67, 0.3), 0px 1px 3px 1px rgba(60, 64, 67, 0.15);\n",
              "        fill: #174EA6;\n",
              "      }\n",
              "\n",
              "      [theme=dark] .colab-df-generate {\n",
              "        background-color: #3B4455;\n",
              "        fill: #D2E3FC;\n",
              "      }\n",
              "\n",
              "      [theme=dark] .colab-df-generate:hover {\n",
              "        background-color: #434B5C;\n",
              "        box-shadow: 0px 1px 3px 1px rgba(0, 0, 0, 0.15);\n",
              "        filter: drop-shadow(0px 1px 2px rgba(0, 0, 0, 0.3));\n",
              "        fill: #FFFFFF;\n",
              "      }\n",
              "    </style>\n",
              "    <button class=\"colab-df-generate\" onclick=\"generateWithVariable('levels_distribution')\"\n",
              "            title=\"Generate code using this dataframe.\"\n",
              "            style=\"display:none;\">\n",
              "\n",
              "  <svg xmlns=\"http://www.w3.org/2000/svg\" height=\"24px\"viewBox=\"0 0 24 24\"\n",
              "       width=\"24px\">\n",
              "    <path d=\"M7,19H8.4L18.45,9,17,7.55,7,17.6ZM5,21V16.75L18.45,3.32a2,2,0,0,1,2.83,0l1.4,1.43a1.91,1.91,0,0,1,.58,1.4,1.91,1.91,0,0,1-.58,1.4L9.25,21ZM18.45,9,17,7.55Zm-12,3A5.31,5.31,0,0,0,4.9,8.1,5.31,5.31,0,0,0,1,6.5,5.31,5.31,0,0,0,4.9,4.9,5.31,5.31,0,0,0,6.5,1,5.31,5.31,0,0,0,8.1,4.9,5.31,5.31,0,0,0,12,6.5,5.46,5.46,0,0,0,6.5,12Z\"/>\n",
              "  </svg>\n",
              "    </button>\n",
              "    <script>\n",
              "      (() => {\n",
              "      const buttonEl =\n",
              "        document.querySelector('#id_c604fcbc-6b1e-446a-933c-c355867ca8c2 button.colab-df-generate');\n",
              "      buttonEl.style.display =\n",
              "        google.colab.kernel.accessAllowed ? 'block' : 'none';\n",
              "\n",
              "      buttonEl.onclick = () => {\n",
              "        google.colab.notebook.generateWithVariable('levels_distribution');\n",
              "      }\n",
              "      })();\n",
              "    </script>\n",
              "  </div>\n",
              "\n",
              "    </div>\n",
              "  </div>\n"
            ]
          },
          "metadata": {},
          "execution_count": 42
        }
      ],
      "source": [
        "levels_distribution"
      ],
      "metadata": {
        "id": "kjcuyNcWaUU_",
        "outputId": "05d926ac-a575-4e57-a64f-78ebbe1c9b14",
        "colab": {
          "base_uri": "https://localhost:8080/",
          "height": 175
        }
      }
    },
    {
      "cell_type": "code",
      "execution_count": 43,
      "outputs": [
        {
          "output_type": "stream",
          "name": "stdout",
          "text": [
            "Paid users proportion for no-churn users: 46.40%\n"
          ]
        }
      ],
      "source": [
        "no_churn_users = levels_distribution[levels_distribution[\"churn\"] == 0]\n",
        "paid_users_proportion = no_churn_users.iloc[1][\"Levels of Users\"] / no_churn_users[\"Levels of Users\"].sum()\n",
        "print(f\"Paid users proportion for no-churn users: {paid_users_proportion*100:.2f}%\")"
      ],
      "metadata": {
        "id": "MtzlpRKWaUU_",
        "outputId": "a28b3ba7-97f7-40ab-f51f-597a7091a334",
        "colab": {
          "base_uri": "https://localhost:8080/"
        }
      }
    },
    {
      "cell_type": "code",
      "execution_count": 44,
      "outputs": [
        {
          "output_type": "stream",
          "name": "stdout",
          "text": [
            "Paid users proportion for churn users: 43.90%\n"
          ]
        }
      ],
      "source": [
        "no_churn_users = levels_distribution[levels_distribution[\"churn\"] == 1]\n",
        "paid_users_proportion = no_churn_users.iloc[0][\"Levels of Users\"] / no_churn_users[\"Levels of Users\"].sum()\n",
        "print(f\"Paid users proportion for churn users: {paid_users_proportion*100:.2f}%\")"
      ],
      "metadata": {
        "id": "Y35Q8eVLaUU_",
        "outputId": "1bbba2a1-fcc9-448a-da3c-b341bf26339c",
        "colab": {
          "base_uri": "https://localhost:8080/"
        }
      }
    },
    {
      "cell_type": "markdown",
      "source": [
        "There is no huge difference for the users that are paying for a subscription between the churn and no-churn groups.\n",
        "\n",
        "*Note:* A more robust verification can be done with a proportion statistical test."
      ],
      "metadata": {
        "collapsed": false,
        "id": "Cq405cKgaUU_"
      }
    },
    {
      "cell_type": "markdown",
      "metadata": {
        "id": "We6ut8KAaUU_"
      },
      "source": [
        "# Feature Engineering"
      ]
    },
    {
      "cell_type": "markdown",
      "metadata": {
        "id": "i591eu5WaUU_"
      },
      "source": [
        "#### Aggregate Data at the User Level\n",
        "The churn classification will be performed at the user level. Therefore, we need to aggregate the data for every user. All the features will be a result of this aggregation."
      ]
    },
    {
      "cell_type": "code",
      "execution_count": 45,
      "metadata": {
        "id": "ySFpHS_OaUVA"
      },
      "outputs": [],
      "source": [
        "def count_with_condition(condition):\n",
        "    \"\"\"Utility function to count only specific rows based on the 'condition'.\"\"\"\n",
        "    return F.count(F.when(condition, True))\n",
        "\n",
        "\n",
        "def count_distinct_with_condition(condition, values):\n",
        "    \"\"\"Utility function to count only distinct & specific rows based on the 'condition'.\"\"\"\n",
        "    return F.count_distinct(F.when(condition, values))"
      ]
    },
    {
      "cell_type": "markdown",
      "source": [
        "Based on the EDA step, we chose the features that divide the most the `churn` and `no-churn` user groups:\n",
        "- The total number of visited pages.\n",
        "- The total number of songs played.\n",
        "- The total number of total artists.\n",
        "- Timestamp since registration (in seconds)"
      ],
      "metadata": {
        "collapsed": false,
        "id": "Dq9xu4qaaUVA"
      }
    },
    {
      "cell_type": "code",
      "execution_count": 46,
      "metadata": {
        "id": "gTPmwNFNaUVA",
        "outputId": "99187c2f-0402-4c0f-d280-207f290b7ef2",
        "colab": {
          "base_uri": "https://localhost:8080/"
        }
      },
      "outputs": [
        {
          "output_type": "stream",
          "name": "stdout",
          "text": [
            "+------+---------------+-------------+---------------+--------------------------+-----+\n",
            "|userId|numPagesVisited|numTotalPlays|numTotalArtists|timedeltaSinceRegistration|churn|\n",
            "+------+---------------+-------------+---------------+--------------------------+-----+\n",
            "|   100|           3214|         2682|           1705|                5605094000|    0|\n",
            "|100004|           1245|          942|            733|               14898823000|    0|\n",
            "|100005|            216|          154|            149|                7360899000|    1|\n",
            "|100006|             44|           26|             26|                 788587000|    1|\n",
            "|100007|            520|          423|            357|                9969490000|    1|\n",
            "+------+---------------+-------------+---------------+--------------------------+-----+\n",
            "only showing top 5 rows\n",
            "\n"
          ]
        }
      ],
      "source": [
        "aggregated_df = labeled_df.groupby(\"userId\").agg(\n",
        "    F.count(\"page\").alias(\"numPagesVisited\"),\n",
        "    count_with_condition(F.col(\"page\") == \"NextSong\").alias(\"numTotalPlays\"),\n",
        "    count_distinct_with_condition(F.col(\"artist\") != \"unknown\", F.col(\"artist\")).alias(\"numTotalArtists\"),\n",
        "    F.max(F.col(\"ts\") - F.col(\"registration\")).alias(\"timedeltaSinceRegistration\"),\n",
        "    F.max(\"churn\").alias(\"churn\")\n",
        ")\n",
        "aggregated_df.show(n=5)"
      ]
    },
    {
      "cell_type": "markdown",
      "metadata": {
        "id": "83HXlasHaUVA"
      },
      "source": [
        "#### Create the Feature Vector and Labels"
      ]
    },
    {
      "cell_type": "code",
      "execution_count": 47,
      "metadata": {
        "id": "Z9Y44M52aUVA",
        "outputId": "2e7d83d1-db38-47ae-c635-d037fef1bac7",
        "colab": {
          "base_uri": "https://localhost:8080/"
        }
      },
      "outputs": [
        {
          "output_type": "stream",
          "name": "stdout",
          "text": [
            "+--------------------+-----+\n",
            "|   unscaled_features|label|\n",
            "+--------------------+-----+\n",
            "|[3214.0,2682.0,5....|    0|\n",
            "|[1245.0,942.0,1.4...|    0|\n",
            "|[216.0,154.0,7.36...|    1|\n",
            "|[44.0,26.0,7.8858...|    1|\n",
            "|[520.0,423.0,9.96...|    1|\n",
            "|[940.0,772.0,5.89...|    0|\n",
            "|[671.0,518.0,3.23...|    1|\n",
            "|[381.0,275.0,4.80...|    0|\n",
            "|[310.0,257.0,7.35...|    1|\n",
            "|[1050.0,800.0,5.8...|    1|\n",
            "|[319.0,230.0,5.59...|    1|\n",
            "|[964.0,681.0,4.14...|    1|\n",
            "|[623.0,490.0,7.67...|    1|\n",
            "|[2149.0,1797.0,4....|    1|\n",
            "|[2132.0,1781.0,1....|    0|\n",
            "|[315.0,246.0,6.41...|    0|\n",
            "|[848.0,647.0,1.07...|    0|\n",
            "|[235.0,178.0,5.90...|    0|\n",
            "|[292.0,215.0,7.55...|    0|\n",
            "|[1895.0,1585.0,1....|    0|\n",
            "+--------------------+-----+\n",
            "only showing top 20 rows\n",
            "\n"
          ]
        }
      ],
      "source": [
        "assembler = VectorAssembler(inputCols=[\"numPagesVisited\", \"numTotalPlays\", \"timedeltaSinceRegistration\", \"numTotalArtists\"], outputCol=\"unscaled_features\")\n",
        "engineered_df = assembler.transform(aggregated_df)\n",
        "engineered_df = engineered_df.select(F.col(\"unscaled_features\"), F.col(\"churn\").alias(\"label\"))\n",
        "engineered_df.show()"
      ]
    },
    {
      "cell_type": "markdown",
      "metadata": {
        "id": "Ez30KFmhaUVA"
      },
      "source": [
        "# Modeling\n",
        "We will train and test three models:\n",
        "- Logistic Regression\n",
        "- Naive Bayes\n",
        "- Gradient Boosting Tree\n",
        "\n",
        "We will use cross-validation with 3 folds to find the best hyper-parameters.\n",
        "\n",
        "We will use 80% in the train split and 20% in the test split.\n",
        "\n",
        "We normalized the features using a StandardScaler.\n",
        "\n",
        "Because the labels are highly imbalanced, we will use the `F1 score` to evaluate the models. The F1 score metric is using under the hood the precision and recall which are taking into consideration the unbalanced distribution issue."
      ]
    },
    {
      "cell_type": "code",
      "execution_count": 48,
      "metadata": {
        "id": "-XztPtdQaUVA"
      },
      "outputs": [],
      "source": [
        "def run(pipeline, paramGrid, train_df, test_df):\n",
        "    \"\"\"\n",
        "    Main function used to train & test a given model.\n",
        "    The training step uses cross-validation to find the best hyper-parameters for the model.\n",
        "\n",
        "    :param pipeline: Model pipeline.\n",
        "    :param paramGrid: Parameter grid used for cross-validation.\n",
        "    :param train_df: Training dataframe.\n",
        "    :param test_df: Testing dataframe.\n",
        "    :return: the best model from cross-validation.\n",
        "    \"\"\"\n",
        "\n",
        "    fitted_model = fit_model(paramGrid, pipeline, train_df)\n",
        "    evaluate_model(fitted_model, test_df)\n",
        "\n",
        "    return fitted_model\n",
        "\n",
        "\n",
        "def fit_model(paramGrid, pipeline, train_df):\n",
        "    \"\"\"\n",
        "    Function that trains the model using cross-validation.\n",
        "    Also, it prints the best validation results and hyper-parameters.\n",
        "\n",
        "    :param paramGrid: Parameter grid used for cross-validation.\n",
        "    :param pipeline: Model pipeline.\n",
        "    :param train_df: Training dataframe.\n",
        "    :return: the best model from cross-validation.\n",
        "    \"\"\"\n",
        "\n",
        "    crossval = CrossValidator(\n",
        "        estimator=pipeline,\n",
        "        estimatorParamMaps=paramGrid,\n",
        "        evaluator=MulticlassClassificationEvaluator(metricName=\"f1\", beta=1.0),\n",
        "        parallelism=3,\n",
        "        numFolds=3\n",
        "    )\n",
        "\n",
        "    fitted_model = crossval.fit(train_df)\n",
        "    print_best_validation_score(fitted_model)\n",
        "    print_best_parameters(fitted_model)\n",
        "\n",
        "    return fitted_model\n",
        "\n",
        "\n",
        "def create_pipeline(model):\n",
        "    \"\"\"\n",
        "    Create a pipeline based on a model.\n",
        "\n",
        "    :param model: The end model that will be used for training.\n",
        "    :return: the built pipeline.\n",
        "    \"\"\"\n",
        "\n",
        "    scaler = StandardScaler(inputCol=\"unscaled_features\", outputCol=\"features\")\n",
        "    pipeline = Pipeline(stages=[scaler, model])\n",
        "\n",
        "    return pipeline\n",
        "\n",
        "\n",
        "def print_best_validation_score(cross_validation_model):\n",
        "    \"\"\"Prints the best validation score based on the results from the cross-validation model.\"\"\"\n",
        "    print()\n",
        "    print(\"-\" * 60)\n",
        "    print(f\"F1 score, on the validation split, for the best model: {np.max(cross_validation_model.avgMetrics) * 100:.2f}%\")\n",
        "    print(\"-\" * 60)\n",
        "\n",
        "\n",
        "def print_best_parameters(cross_validation_model):\n",
        "    \"\"\"Prints the best hyper-parameters based on the results from the cross-validation model.\"\"\"\n",
        "\n",
        "    parameters = cross_validation_model.getEstimatorParamMaps()[np.argmax(cross_validation_model.avgMetrics)]\n",
        "\n",
        "    print()\n",
        "    print(\"-\" * 60)\n",
        "    print(\"Best model hyper-parameters:\")\n",
        "    for param, value in parameters.items():\n",
        "        print(f\"{param}: {value}\")\n",
        "    print(\"-\" * 60)\n",
        "\n",
        "\n",
        "def evaluate_model(model, test_df):\n",
        "    \"\"\"Evaluate the model on the test set using F1 score and print the results.\"\"\"\n",
        "\n",
        "    predictions = model.transform(test_df)\n",
        "    evaluator =  MulticlassClassificationEvaluator(metricName=\"f1\", beta=1.0)\n",
        "    metric = evaluator.evaluate(predictions)\n",
        "\n",
        "    print()\n",
        "    print(\"-\" * 60)\n",
        "    print(f\"F1 score, on the test set is: {metric*100:.2f}%\")\n",
        "    print(\"-\" * 60)\n",
        "\n",
        "    return metric"
      ]
    },
    {
      "cell_type": "markdown",
      "metadata": {
        "id": "ZheKKGMZaUVB"
      },
      "source": [
        "## Split the Data"
      ]
    },
    {
      "cell_type": "code",
      "execution_count": 49,
      "metadata": {
        "id": "A2PZ7u7_aUVB"
      },
      "outputs": [],
      "source": [
        "train_df, test_df = engineered_df.randomSplit([0.8, 0.2], seed=42)"
      ]
    },
    {
      "cell_type": "markdown",
      "metadata": {
        "id": "CbPtuXffaUVB"
      },
      "source": [
        "## Logistic Regression"
      ]
    },
    {
      "cell_type": "code",
      "execution_count": 50,
      "metadata": {
        "id": "BdP6xvffaUVB"
      },
      "outputs": [],
      "source": [
        "lr = LogisticRegression()\n",
        "pipeline = create_pipeline(lr)\n",
        "\n",
        "paramGrid = ParamGridBuilder() \\\n",
        "    .addGrid(lr.maxIter, [10, 25, 50])  \\\n",
        "    .addGrid(lr.regParam, [0.05, 0.1, 0.2]) \\\n",
        "    .addGrid(lr.elasticNetParam, [0.05, 0.1, 0.2]) \\\n",
        "    .build()"
      ]
    },
    {
      "cell_type": "code",
      "execution_count": 51,
      "metadata": {
        "id": "Dhnkx3e3aUVB",
        "outputId": "b2913c2d-4f5d-481b-8a90-90f088775860",
        "colab": {
          "base_uri": "https://localhost:8080/"
        }
      },
      "outputs": [
        {
          "output_type": "stream",
          "name": "stdout",
          "text": [
            "\n",
            "------------------------------------------------------------\n",
            "F1 score, on the validation split, for the best model: 74.15%\n",
            "------------------------------------------------------------\n",
            "\n",
            "------------------------------------------------------------\n",
            "Best model hyper-parameters:\n",
            "LogisticRegression_6471409cca41__maxIter: 10\n",
            "LogisticRegression_6471409cca41__regParam: 0.05\n",
            "LogisticRegression_6471409cca41__elasticNetParam: 0.05\n",
            "------------------------------------------------------------\n",
            "\n",
            "------------------------------------------------------------\n",
            "F1 score, on the test set is: 70.52%\n",
            "------------------------------------------------------------\n"
          ]
        }
      ],
      "source": [
        "run(pipeline, paramGrid, train_df.alias(\"train_df_lr\"), test_df.alias(\"test_df_lr\"));"
      ]
    },
    {
      "cell_type": "markdown",
      "metadata": {
        "id": "r5570HcEaUVB"
      },
      "source": [
        "## Naive Bayes"
      ]
    },
    {
      "cell_type": "code",
      "execution_count": 52,
      "metadata": {
        "id": "IRqNhFJQaUVC"
      },
      "outputs": [],
      "source": [
        "nb = NaiveBayes()\n",
        "pipeline = create_pipeline(nb)\n",
        "\n",
        "paramGrid = ParamGridBuilder() \\\n",
        "    .addGrid(nb.smoothing, [0.5, 1, 2])  \\\n",
        "    .build()"
      ]
    },
    {
      "cell_type": "code",
      "execution_count": 53,
      "metadata": {
        "id": "q1I80QOsaUVC",
        "outputId": "903bbe86-3e4c-4a29-96a4-1fd55ebf4a9d",
        "colab": {
          "base_uri": "https://localhost:8080/"
        }
      },
      "outputs": [
        {
          "output_type": "stream",
          "name": "stdout",
          "text": [
            "\n",
            "------------------------------------------------------------\n",
            "F1 score, on the validation split, for the best model: 66.92%\n",
            "------------------------------------------------------------\n",
            "\n",
            "------------------------------------------------------------\n",
            "Best model hyper-parameters:\n",
            "NaiveBayes_2d054fe79f79__smoothing: 0.5\n",
            "------------------------------------------------------------\n",
            "\n",
            "------------------------------------------------------------\n",
            "F1 score, on the test set is: 61.57%\n",
            "------------------------------------------------------------\n"
          ]
        }
      ],
      "source": [
        "run(pipeline, paramGrid, train_df.alias(\"train_df_nb\"), test_df.alias(\"test_df_nb\"));"
      ]
    },
    {
      "cell_type": "markdown",
      "metadata": {
        "id": "7_bDLUYQaUVC"
      },
      "source": [
        "## Gradient Boosting"
      ]
    },
    {
      "cell_type": "code",
      "execution_count": 54,
      "metadata": {
        "id": "Kx1_EqMhaUVC"
      },
      "outputs": [],
      "source": [
        "gbt = GBTClassifier()\n",
        "pipeline = create_pipeline(gbt)\n",
        "\n",
        "paramGrid = ParamGridBuilder() \\\n",
        "    .addGrid(gbt.maxIter, [10, 20, 30]) \\\n",
        "    .addGrid(gbt.stepSize, [0.05, 0.1]) \\\n",
        "    .build()"
      ]
    },
    {
      "cell_type": "code",
      "execution_count": 55,
      "metadata": {
        "id": "_pReYJz3aUVC",
        "outputId": "8ffd5913-60f9-49aa-8284-490877b9a1f4",
        "colab": {
          "base_uri": "https://localhost:8080/"
        }
      },
      "outputs": [
        {
          "output_type": "stream",
          "name": "stdout",
          "text": [
            "\n",
            "------------------------------------------------------------\n",
            "F1 score, on the validation split, for the best model: 75.34%\n",
            "------------------------------------------------------------\n",
            "\n",
            "------------------------------------------------------------\n",
            "Best model hyper-parameters:\n",
            "GBTClassifier_579e34494282__maxIter: 20\n",
            "GBTClassifier_579e34494282__stepSize: 0.05\n",
            "------------------------------------------------------------\n",
            "\n",
            "------------------------------------------------------------\n",
            "F1 score, on the test set is: 69.76%\n",
            "------------------------------------------------------------\n"
          ]
        }
      ],
      "source": [
        "run(pipeline, paramGrid, train_df.alias(\"train_df_gbt\"), test_df.alias(\"test_df_gbt\"));"
      ]
    },
    {
      "cell_type": "markdown",
      "metadata": {
        "id": "_4b4SAdraUVC"
      },
      "source": [
        "# Results\n",
        "\n",
        "|        Model        | Validation |   Test   |\n",
        "|:-------------------:|:----------:|:--------:|\n",
        "| Logistic Regression |   0.7415   |  0.7052  |\n",
        "|     Naive Bayes     |   0.6692   |  0.6157  |\n",
        "|  Gradient Boosting  |  *0.7534*  | *0.6976* |\n",
        "\n",
        "The GBT model has a better `F1 score` than Logistic Regression and Naive Bayes. This is because GBT is a more complex model that can understand non-linear relationships better.\n",
        "\n",
        "Usually,  Gradient Boosting methods perform better than other methods such as LR or NB without taking into consideration factors such as correlation between two variables or non-linear relationships. Tree base models are not sensitive to those issues because they create leaves independently."
      ]
    },
    {
      "cell_type": "markdown",
      "source": [
        "# Conclusion\n",
        "\n",
        "Great! We managed to train a decent classifier using only Spark.\n",
        "\n",
        "We loaded the dataset, cleaned it, analyzed it, and in the end, we created a set of useful features to predict customer churn.\n",
        "\n",
        "With the engineered data, we trained and tested three churn prediction models. By using cross-validation, we find the best hyper-parameters for the following models:\n",
        "- Logistic Regression\n",
        "- Naive Bayes\n",
        "- Gradient Boosting\n",
        "We compared the results and saw that the GBT model had the highest `F1 score` on the validation and test splits.\n",
        "\n",
        "To further improve the model, we can do the following:\n",
        "* add more features\n",
        "* solve the label imbalance issue\n",
        "* use the `Downgrade` event to generate more `churn` labels\n",
        "* more hyper-parameter tuning (because some intervals used in cross-validation are hitting the lower or upper edges).\n",
        "* use XGBoost or LightGBM"
      ],
      "metadata": {
        "collapsed": false,
        "id": "z8QAAv9jaUVC"
      }
    }
  ],
  "metadata": {
    "kernelspec": {
      "display_name": "Python 3",
      "name": "python3"
    },
    "language_info": {
      "codemirror_mode": {
        "name": "ipython",
        "version": 3
      },
      "file_extension": ".py",
      "mimetype": "text/x-python",
      "name": "python",
      "nbconvert_exporter": "python",
      "pygments_lexer": "ipython3",
      "version": "3.8.10"
    },
    "colab": {
      "provenance": [],
      "machine_shape": "hm",
      "gpuType": "A100",
      "include_colab_link": true
    },
    "accelerator": "GPU"
  },
  "nbformat": 4,
  "nbformat_minor": 0
}